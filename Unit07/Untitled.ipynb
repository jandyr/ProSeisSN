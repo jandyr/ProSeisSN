{
 "cells": [
  {
   "cell_type": "markdown",
   "id": "b09f6359-aa32-46c7-ab01-19f1fe67a421",
   "metadata": {},
   "source": [
    "# ==>   I AM HERE  => to be deleted\n",
    "\n",
    "## Follow up: https://github.com/calum-chamberlain/GPHS445_notebooks/blob/master/3_Earthquake_detection_and_phase_analysis.ipynb\n",
    "- Local => /media/jmt/DATA/R-D/COURSES/COPPE_24/Github_Repos/VUW_Seismology/\n",
    "- Use of multiple sites to trigger. TTB!\n",
    "\n",
    "## Array and Network Methods\n",
    "- https://github.com/roseseismo/roses2020/blob/main/unit05/array_processing.pdf\n",
    "Arrays and Networks, Beamforming, Estimating the slowness vector, Sliding-window array processing, \n",
    "Networks, Some common transforms\n",
    "The STA/LTA transform, Backprojection, Local Similarity\n",
    "\n",
    "- https://seismo-live.github.io/html/Rotational%20Seismology/estimate_backazimuth_wrapper.html\n",
    "https://seismo-live.github.io/html/Rotational%20Seismology/estimate_backazimuth_wrapper.html\n",
    "=> Estimate correlation coefficients and backazimuth for each time window, get theoretical P- and S-Wave first arrivals from a 1D velocity model using TauPy, Plot backazimuth estimation\n",
    "\n",
    "\n",
    "## Earthquake Detection & Spectral Analysis & Rotational Seismology\n",
    "mess2014-notebooks => /MESS 2014 - Array Seismology (with solutions).ipynb\n",
    "                    Python Exercises (with solutions).ipynb\n",
    "\n",
    "- https://github.com/obspy/mess2014-notebooks/blob/master/MESS%202014%20-%20Array%20Seismology%20(with%20solutions).ipynb\n",
    "\n",
    "https://github.com/obspy/mess2014-notebooks/blob/master/MESS%202014%20-%20Array%20Seismology.ipynb\n",
    "\n",
    "1. Seismograms, move-out\n",
    "2. Vespagrams, linear and 4th root\n",
    "3. Phase Weighted Stack (PWS)\n",
    "4. Array Response Function\n",
    "5. Slowness-Backazimuth plots\n",
    "6. Frequency-Wavenumaber analysis\n",
    "\n",
    "- https://cuseistut.readthedocs.io/en/latest/obspy-2/index.html\n",
    "Waveform rotation, Seismic Phases in seismogram, TauP, Travel Time Calculation,  Waveform cross-section plot\n",
    "\n",
    "- https://github.com/calum-chamberlain/GPHS445_notebooks/blob/master/3_Earthquake_detection_and_phase_analysis.ipynb\n",
    " Waveform cross-section plot,  Waveform cross-section plot,  Waveform cross-section plot,  Waveform cross-section plot, **Matched-filter detection**.\n",
    "\n",
    "\n",
    "## Array Seismology with Vespagrams\n",
    "- https://seismo-live.github.io/html/ObsPy/07_Basic_Processing_Exercise_wrapper.html\n",
    "\n",
    "\n",
    "## Active seismics\n",
    "\n",
    "- Data & notebooks => /media/jmt/DATA/R-D/COURSES/COPPE_24/Github_Repos/Kaust_Seismology/\n",
    "\n",
    "\n",
    "- /media/jandyr/082670DD2670CCE61/R-D/COURSES/COPPE_24-old/Repos/Cargese_Course_Ambient_Noise/\n",
    "\n",
    "- /media/jandyr/082670DD2670CCE61/R-D/COURSES/COPPE_24-old/Repos/USU_course/\n",
    "\n",
    "- /media/jandyr/082670DD2670CCE61/R-D/COURSES/COPPE_24-old/Repos/ELLEN/\n",
    "\n",
    "\n",
    "## https://github.com/roseseismo/roses2020/blob/main/unit05/array_processing.pdf\n",
    "\n",
    "\n",
    "![image.png](attachment:image.png)\n"
   ]
  },
  {
   "cell_type": "code",
   "execution_count": null,
   "id": "b9cbceec-2030-4bef-90ae-d62d1be11ab0",
   "metadata": {},
   "outputs": [],
   "source": []
  }
 ],
 "metadata": {
  "kernelspec": {
   "display_name": "Python 3 (ipykernel)",
   "language": "python",
   "name": "python3"
  },
  "language_info": {
   "codemirror_mode": {
    "name": "ipython",
    "version": 3
   },
   "file_extension": ".py",
   "mimetype": "text/x-python",
   "name": "python",
   "nbconvert_exporter": "python",
   "pygments_lexer": "ipython3",
   "version": "3.12.7"
  }
 },
 "nbformat": 4,
 "nbformat_minor": 5
}
