{
 "cells": [
  {
   "cell_type": "markdown",
   "metadata": {
    "id": "HeMSvOAPfX5S"
   },
   "source": [
    "##### ---\n",
    "# Unit05: Processing passive seismic data III\n",
    "\n",
    "This notebook has some practical processing activities of the Course **ProSeisSN**. It deals with event detection using a passive seismic dataset using [ObsPy](https://docs.obspy.org/).\n",
    "\n",
    "#### Dependencies: Obspy, Numpy, Matplotlib\n",
    "#### Reset the Jupyter/IPython notebook in order to run it again, press:\n",
    "***Kernel*** -> ***Restart & Clear Output***\n",
    "#### The code $\\Downarrow$ BELOW $\\Downarrow$ runs a notebook with other dependencies"
   ]
  },
  {
   "cell_type": "code",
   "execution_count": null,
   "metadata": {
    "colab": {
     "base_uri": "https://localhost:8080/",
     "height": 480
    },
    "id": "uzMJ-lGlkGuK",
    "outputId": "66c27f9e-fd21-4a54-ed6d-6a23b77ec540",
    "scrolled": true
   },
   "outputs": [],
   "source": [
    "#------ Import Libraries\n",
    "import sys\n",
    "import os\n",
    "    \n",
    "#------ Work with the directory structure to include auxiliary codes\n",
    "print('\\n Local directory ==> ', os.getcwd())\n",
    "print('  - Contents: ', os.listdir(), '\\n')\n",
    "\n",
    "path = os.path.abspath(os.path.join('..'))\n",
    "if path not in sys.path:\n",
    "    sys.path.append(path+\"/CodePy\")\n",
    "\n",
    "%run ../CodePy/ImpMod.ipynb\n",
    "\n",
    "#------ Alter default matplotlib rcParams\n",
    "from matplotlib import rcParams\n",
    "# Change the defaults of the runtime configuration settings in the global variable matplotlib.rcParams\n",
    "plt.rcParams['figure.figsize'] = 9, 5\n",
    "#plt.rcParams['lines.linewidth'] = 0.5\n",
    "plt.rcParams[\"figure.subplot.hspace\"] = (.9)\n",
    "\n",
    "#------ Magic commands\n",
    "%matplotlib inline\n",
    "%matplotlib widget"
   ]
  },
  {
   "cell_type": "markdown",
   "metadata": {
    "id": "-UQ66x8GfX5U"
   },
   "source": [
    "---\n",
    "## Read data locally\n",
    "\n",
    "Read the demeaned+detrended Z-component: ../Data/wb11793085d.mseed\n",
    "\n",
    "|EventID | Time | Lat | Long | Depth(km) | Mww | Location |\n",
    "| :- | :-: | :- | :- | :-: | :-: | :- |\n",
    "|11793085|2024-01-20T21:31|-7.2879|-71.464|607|6.6|WESTERN BRAZIL|\n",
    "\n",
    "recorded at station IU HKT, $44^{\\circ}$ away ($\\gtrsim4440$km).\n",
    "\n",
    "### The relevant limits in time and frequency domains\n",
    "- **time-domain**\n",
    "\n",
    "$$\\underset{0}{\\mid}\\cdot\\cdotp\\cdotp\\cdotp\\cdot\\cdotp\\cdotp\\cdotp\\underset{\\delta t}{\\mid\\mid}\\cdot\\cdotp\\cdotp\\cdotp\\cdot\\cdotp\\cdotp\\cdotp\\underset{T_{w}}{\\!\\cdotp\\!\\mid N}$$\n",
    "\n",
    "- **frequency-domain**\n",
    "\n",
    "$$\\underset{0}{\\mid}\\cdotp\\!\\underset{f_{min}}{\\cdotp\\cdotp\\mid\\cdotp\\cdotp}\n",
    "\\cdot\\cdotp\\cdotp\\cdotp\\cdot\\cdotp\\cdotp\\cdotp\\underset{\\delta f}{\\mid\\mid}\\cdot\\cdotp\\cdotp\\cdotp\\cdot\\underset{3 f_{c}}{\\cdotp\\cdotp\\mid\\cdotp\\cdotp}\\cdotp\\cdotp\\cdotp\\underset{\\zeta f_{Ny}}{\\cdotp\\cdotp\\mid\\cdotp\\cdotp}\\cdotp\\underset{f_{Ny}}{\\!\\cdotp\\!\\mid}$$"
   ]
  },
  {
   "cell_type": "code",
   "execution_count": null,
   "metadata": {},
   "outputs": [],
   "source": [
    "#%%script echo skipping\n",
    "\"\"\"\n",
    "=========== READ THE DATA LOCALLY ===========\n",
    "\"\"\"\n",
    "filename = '../Data/wb11793085d.mseed'\n",
    "print(f\"Read the demean+detrend data {filename}\")\n",
    "st = read(filename)\n",
    "#------- Begin recording a new processing flux\n",
    "Pflux = ['Unit05 '+filename]\n",
    "\n",
    "#\\________________________________________________________________________________________________/\n",
    "#------- Sampling frequency\n",
    "print(f\">> The sampling frequency is {np.round(st[0].stats.sampling_rate, 5)}Hz\")\n",
    "print(f\">> The original Nyquist is {np.round(1. / (2.0 * st[0].stats.delta), 5)}Hz\")\n",
    "#--- relative time: nummpy array\n",
    "time = st[0].times(type=\"relative\")\n",
    "print(f\">> The time window is tw = {time[-1]}s, with npts = {st[0].stats.npts} samples\")\n",
    "\n",
    "#-------- Spectrogram\n",
    "p.Pspect(time, st[0])\n",
    "\n",
    "#------- Deep copy of the Z-component\n",
    "trZ = st[0].copy()\n",
    "tr0 = st[0].copy()"
   ]
  },
  {
   "cell_type": "markdown",
   "metadata": {},
   "source": [
    "---\n",
    "## Filter the data \n",
    "- The **P-wave** disappear for *HP*, fc>=0.5!\n",
    "- Hint: bp .1  4."
   ]
  },
  {
   "cell_type": "code",
   "execution_count": null,
   "metadata": {},
   "outputs": [],
   "source": [
    "#------- Filter data\n",
    "trZ, ftype, flims = u.TrFlt(trZ)\n",
    "#           +---+─> [fmin, fmax] = useful frequency range due to filter\n",
    "# Unpack useful frequency range\n",
    "fmin, fmax = flims\n",
    "\n",
    "print(flims)\n",
    "#-------- Data spectrogram\n",
    "p.Pspect(time, trZ)\n",
    "\n",
    "#--------  Save trace for the next cell + append to the processing flux\n",
    "tr0, trZ, Pflux = u.AuxReset(tr0, trZ, lst=Pflux, app=[ftype])"
   ]
  },
  {
   "cell_type": "markdown",
   "metadata": {},
   "source": [
    "---\n",
    "## Resampling the data\n",
    "- Change the sampling rate of the data.\n",
    "- **It is necessary to lowpass filter the data with a new Nyquist frequency before downsampling.**"
   ]
  },
  {
   "cell_type": "code",
   "execution_count": null,
   "metadata": {},
   "outputs": [],
   "source": [
    "#------- Decide on resampling\n",
    "dummy = 1. / tr0.stats.delta\n",
    "print(f\"\\n>> The data have {tr0.stats.npts} samples, with sampling rate of {dummy}Hz\")\n",
    "ent = input(f' Enter a new sampling rate <{dummy / 2.}Hz (dflt: no resampling) in Hz: ') or '-1'\n",
    "ent = float(ent)\n",
    "\n",
    "#------- Resampling\n",
    "if ent > 0. and ent < dummy / 2.:\n",
    "#--- Apply an acausal filter at corner frequency fc, zero phase and resample,\n",
    "#     if lower than filter above.\n",
    "    if ent < fmax: trZ.filter('lowpass', freq=ent, zerophase=True, corners=4)\n",
    "#--- Resample\n",
    "    trZ.resample(sampling_rate=ent)\n",
    "    dummy = 1. / trZ.stats.delta\n",
    "    print(f\"\\n>> The data now have {trZ.stats.npts} samples, with a sampling rate of {dummy}s\")\n",
    "    \n",
    "#-------- Spectrogram\n",
    "    time = trZ.times(type=\"relative\")\n",
    "    p.Pspect(time, trZ)    \n",
    "    \n",
    "#--------  Save trace to the next cell + append to the processing flux\n",
    "    dummy = 'decimation '+str(ent)\n",
    "    tr0, trZ, Pflux = u.AuxReset(tr0, trZ, lst=Pflux, app=[dummy])\n",
    "\n",
    "else:\n",
    "    dummy = 1. / trZ.stats.delta\n",
    "    print(f\">> The original sampling rate of {dummy}Hz is unchanged.\")"
   ]
  },
  {
   "cell_type": "markdown",
   "metadata": {},
   "source": [
    "## Taper the data window\n",
    "- Use the **Hanning Window**, which uses a cosine function to taper at both ends. Hint: 0.2."
   ]
  },
  {
   "cell_type": "code",
   "execution_count": null,
   "metadata": {},
   "outputs": [],
   "source": [
    "#------- Taper the data\n",
    "ent = input(f' Enter the percentage to taper window ends (rtn=0.2)\\n') or '0.2'\n",
    "ent = float(ent)\n",
    "# Apply Hanning on the signal\n",
    "trZ.taper(type = 'hann', max_percentage = ent)\n",
    "\n",
    "#--------  Save trace to the next cell + append to the processing flux\n",
    "    dummy = 'Hanning '+str(ent)\n",
    "    tr0, trZ, Pflux = u.AuxReset(tr0, trZ, lst=Pflux, app=[dummy])"
   ]
  },
  {
   "cell_type": "markdown",
   "metadata": {},
   "source": [
    "---\n",
    "## Estimating the the instantaneous value of a seismic signal\n",
    "The instantaneous absolute amplitude of a signal is estimated using its envelope, or the modulus of the analytic signal. The analytic of a *real* signal $s\\left(t\\right)$ is \n",
    "\n",
    "$$\n",
    "\\mathcal{S}_A\\left(t\\right)\\:=\\:s\\left(t\\right)+\\imath\\mathcal{H}\\left(s\\left(t\\right)\\right)\\:=\\:s\\left(t\\right)\\exp\\left(\\imath\\mathcal{H}\\left(s\\left(t\\right)\\right)\\right)\\:=\\:s\\left(t\\right)\\exp\\left(\\imath\\theta\\right),\n",
    "$$\n",
    "a complex signal, where\n",
    "$$\n",
    "\\mathcal{H}\\left(s\\left(t\\right)\\right)\\:=\\:s\\left(t\\right)\\star\\frac{1}{\\pi t}\n",
    "$$\n",
    "is its Hilbert transform, where $\\star$ denotes a convolution.\n",
    "\n",
    "The Hilbert transform does not change the magnitude of the Fourier transform of the signal, only its phase:\n",
    "1) **positive** frequencies are multiplied by $-\\imath$ $\\rightarrow\\varDelta\\theta=-\\frac{\\pi}{2}$;\n",
    "2) **negative** frequencies are multiplied by $\\:\\imath$ $\\rightarrow\\varDelta\\theta=\\:\\frac{\\pi}{2}$."
   ]
  },
  {
   "cell_type": "code",
   "execution_count": null,
   "metadata": {},
   "outputs": [],
   "source": [
    "from scipy.signal import hilbert\n",
    "\n",
    "#import obspy.signal.filter\n",
    "#trE = np.abs(obspy.signal.filter.hilbert(trZ.data))\n",
    "\n",
    "#------- Calculate the envelope of filtered data using the Hilbert transform\n",
    "trE = np.abs( hilbert(trZ.data) )\n",
    "\n",
    "#------- Plot trace and envelope\n",
    "plt.figure(figsize=(10, 6))\n",
    "plt.plot(time, trZ.data, 'b-', label=\"Seismic Trace\")\n",
    "plt.plot(time, trE, 'r-', label=\"Envelope\")\n",
    "#plt.plot(time[peaks], trE[peaks], 'r-', label=\"Envelope\")\n",
    "plt.xlabel(\"(s)\")\n",
    "plt.ylabel(\"Amplitude\")\n",
    "#plt.title(\" \")\n",
    "plt.legend()\n",
    "plt.grid(True)\n",
    "plt.show()"
   ]
  },
  {
   "cell_type": "markdown",
   "metadata": {},
   "source": [
    "---\n",
    "\n",
    "## Phase detection\n",
    "\n",
    "### The STA/LTA trigger\n",
    "The short-time-average/long-time-average **STA/LTA** trigger is usually used in weak-motion applications. The seismic signals are filtered in two moving time windows:\n",
    "- a short-time average window **STA**, which can estimate an *instantaneous* amplitude of the signal, and\n",
    "- a long-time average window **LTA**, which estimates a current average noise amplitude.\n",
    "\n",
    "The STA window measures the *instant* value of a seismic signal and noise, their **envelope**.\n",
    "\n",
    "Estimate the average of absolute amplitudes in both windows $\\Rightarrow$ get the **STA/LTA** ratio $\\Rightarrow$  compare with a threshold level. Seismic networks and recorders have a built in **trigger voting** mechanism: how many and which channels have to be in a triggered state before an event is recorded. For simplicity let's use the vertical component of the Acre event.\n",
    "\n",
    "<img src=\"StaLta1.png\" width=\"500\">"
   ]
  },
  {
   "cell_type": "markdown",
   "metadata": {},
   "source": [
    "---\n",
    "### Using the STA/LTA trigger algorithm\n",
    "- The STA window length $\\rightarrow$ $\\Delta T_{STA}$: measures the average amplitude of the seismic **signals**.\n",
    "1) **longer** than a few periods of a typically expected signal.\n",
    "2) **shorter** than the shortest events we expect to detect.\n",
    "3) **shorter window** $\\rightarrow$ **higher** sensitivity to **short duration/local** earthquakes.\n",
    "4) **longer window**  $\\rightarrow$ **lower**  sensitivity to short duration/local earthquakes $\\rightarrow$ focous on **longer duration/distant** earthquakes.\n",
    "5) **local**    events $\\rightarrow$ $\\Delta T_{STA}=\\left[0.3,0.5\\right]s$.\n",
    "6) **regional** events $\\rightarrow$ $\\Delta T_{STA}=\\left[1,2\\right]s$.\n",
    "\n",
    "- The LTA window length $\\Delta T_{LTA}$, measures the average amplitude of the seismic **noise**, with lengths **larger** than a few periods of noise fluctuations.\n",
    "1) **Shorter** $\\Delta T_{LTA}$ can be less sensitive to *regional* events or to a *noisy* site.\n",
    "2) **Larger** lengths can be more sensitive to distant *regional* events with longer S-P times and conspicuous P waves. Some adjustements on $\\Delta T_{LTA}$ can turn the detection more or less sensitive to regional events within epicentral distances in the range of [200-1500]km, which have relatively low-amplitude onsets of P*n* waves.\n",
    "3) A value of $\\Delta T_{LTA}=1$s can be used as an initial value. \n",
    "\n",
    "- The relative occurences of **positive**, **false positive** and **missed positive** is conditioned by the STA/LTA trigger threshold level $\\mathcal{T}_{STA/LTA}$.\n",
    "1) Average quiet seismic site/weak events $\\rightarrow\\,\\mathcal{T}_{STA/LTA}\\approx4$.\n",
    "2) Strong-motion/noisier sites $\\rightarrow\\,\\mathcal{T}_{STA/LTA}\\gtrsim8$.\n",
    "\n",
    "|$\\mathcal{T}_{STA/LTA}\\rightarrow0$|$\\mathcal{T}_{STA/LTA}\\rightarrow\\infty$ |\n",
    "| :-: | :-: |\n",
    "|more events and false-triggers | more misses + fewer false-triggers|\n",
    "|stationary seismic noise | irregular seismic noise levels|\n",
    "\n",
    "- The termination of data recording is estimated with the STA/LTA detrigger threshold level $\\widetilde{\\mathcal{T}}_{STA/LTA}$.\n",
    "1) Average quiet seismic site/weak events $\\rightarrow\\,\\widetilde{\\mathcal{T}}_{STA/LTA}\\approx2-3$.\n",
    "2) Strong-motion/noisier sites $\\rightarrow\\,\\widetilde{\\mathcal{T}}_{STA/LTA}>3$.\n",
    "\n",
    "\n",
    "|$\\widetilde{\\mathcal{T}}_{STA/LTA}\\rightarrow0$|$\\widetilde{\\mathcal{T}}_{STA/LTA}\\rightarrow\\infty$ |\n",
    "| :- | :- |\n",
    "|more coda waves, long records | less coda waves, shorter records|\n",
    "\n",
    "<img src=\"StaLta2.png\" width=\"500\">\n",
    "\n",
    "#### STA/LTA Methods\n",
    "| Method| Description |\n",
    "| :-: | :-: |\n",
    "| classic_sta_lta(a, nsta, nita) | Standard STA/LTA |\n",
    "| recursive_sta_lta(a, nsta, nlta) | Recursive STA/LTA |\n",
    "| carl_sta_trig(a, nsta, nita, ratio, quiet) | Characteristic function |\n",
    "| delayed_sta_lta(a, nsta, nlta) | A delayed STA/LTA |\n",
    "| z_detect(a, nsta) | A Z-detector |\n",
    "\n",
    "Other Methods:\n",
    "- pk_baer (reltrc, samp_int, tdownmax, ...[, ...]), a wrapper for P-picker routine by M\n",
    "- ar_pick {a, b, c, samp_rate, f1, f2, Ita_p, ...), pick P and S arrivals with an AR-AIC + STA/LTA algorithm"
   ]
  },
  {
   "cell_type": "code",
   "execution_count": null,
   "metadata": {},
   "outputs": [],
   "source": [
    "#------ Import Packages\n",
    "from obspy.signal.trigger import plot_trigger\n",
    "from obspy.signal.trigger import classic_sta_lta\n",
    "from obspy.signal.trigger import z_detect\n",
    "from obspy.signal.trigger import recursive_sta_lta\n",
    "from obspy.signal.trigger import carl_sta_trig\n",
    "from obspy.signal.trigger import delayed_sta_lta"
   ]
  },
  {
   "cell_type": "code",
   "execution_count": null,
   "metadata": {},
   "outputs": [],
   "source": [
    "\"\"\"\n",
    "Parameters:\n",
    "nsta(int) – Length of short time average window in samples\n",
    "nlta(int) – Length of long time average window in samples\n",
    "\"\"\"\n",
    "print(f\">> Sampling interval = {np.round(trZ.stats.delta, 5)}s\")\n",
    "print(f\">> Sampling rate = {np.round(trZ.stats.sampling_rate, 5)}Hz\")\n",
    "\n",
    "#------ Enter STA and LTA in s.\n",
    "ent = input(f'<< Enter STA and LTA in s: ')\n",
    "ent = ent.rstrip().split(' ')\n",
    "sta = float(ent[0])\n",
    "lta = float(ent[1])\n",
    "#\n",
    "dummy = sta\n",
    "sta = int(sta * trZ.stats.sampling_rate)\n",
    "print(f\">> sta = {dummy}s or {sta} data points\")\n",
    "#\n",
    "dummy = lta\n",
    "lta = int(lta * trZ.stats.sampling_rate)\n",
    "print(f\">> lta = {dummy}s or {lta} data points\")\n",
    "#\n",
    "#------ Enter trigger and detrigger thresholds.\n",
    "ent = input(f'<< Enter trigger and detrigger thresholds: ')\n",
    "ent = ent.rstrip().split(' ')\n",
    "trg  = float(ent[0])\n",
    "dtrg = float(ent[1])"
   ]
  },
  {
   "cell_type": "code",
   "execution_count": null,
   "metadata": {},
   "outputs": [],
   "source": [
    "#------ Classic Sta/Lta\n",
    "#------ STA and LTA hints: 5 20\n",
    "#------ Trigger and detrigger hints: 1.5 0.5\n",
    "#\n",
    "cft = classic_sta_lta(trZ.data, sta, lta)\n",
    "#\n",
    "plot_trigger(trZ, cft, trg, dtrg)"
   ]
  },
  {
   "cell_type": "code",
   "execution_count": null,
   "metadata": {},
   "outputs": [],
   "source": [
    "#------ Z-Detect Sta/Lta\n",
    "#------ LTA hint: 10\n",
    "#------ Trigger and detrigger hints: -0.4 -0.3\n",
    "#\n",
    "cft = z_detect(trZ.data, lta)\n",
    "#\n",
    "plot_trigger(trZ, cft, trg, dtrg)"
   ]
  },
  {
   "cell_type": "code",
   "execution_count": null,
   "metadata": {},
   "outputs": [],
   "source": [
    "#------ Delayed Sta/Lta\n",
    "#------ LTA hint: 5 10\n",
    "#------ Trigger and detrigger hints: 1.5 12\n",
    "cft = delayed_sta_lta(trZ.data, sta, lta)\n",
    "#\n",
    "plot_trigger(trZ, cft, trg, dtrg)"
   ]
  },
  {
   "cell_type": "code",
   "execution_count": null,
   "metadata": {},
   "outputs": [],
   "source": [
    "#------ Characteristic function\n",
    "#------ LTA hint: 5 10\n",
    "#------ Trigger and detrigger hints: 20.0 -20.0\n",
    "#\n",
    "cft = carl_sta_trig(trZ.data, sta, lta, 0.8, 0.8)\n",
    "#\n",
    "plot_trigger(trZ, cft, trg, dtrg)"
   ]
  },
  {
   "cell_type": "code",
   "execution_count": null,
   "metadata": {},
   "outputs": [],
   "source": [
    "#------ Recursive Sta/Lta\n",
    "#------ STA and LTA hints: 5 10\n",
    "#------ Trigger and detrigger hints: 1.5 0.5\n",
    "cft = recursive_sta_lta(trZ.data, sta, lta)\n",
    "#\n",
    "plot_trigger(trZ, cft, trg, dtrg)"
   ]
  },
  {
   "cell_type": "markdown",
   "metadata": {},
   "source": [
    "---\n"
   ]
  }
 ],
 "metadata": {
  "colab": {
   "provenance": []
  },
  "kernelspec": {
   "display_name": "Python 3",
   "language": "python",
   "name": "python3"
  },
  "language_info": {
   "codemirror_mode": {
    "name": "ipython",
    "version": 3
   },
   "file_extension": ".py",
   "mimetype": "text/x-python",
   "name": "python",
   "nbconvert_exporter": "python",
   "pygments_lexer": "ipython3",
   "version": "3.8.12"
  }
 },
 "nbformat": 4,
 "nbformat_minor": 4
}
