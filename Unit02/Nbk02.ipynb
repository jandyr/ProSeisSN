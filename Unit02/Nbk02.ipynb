{
  "cells": [
    {
      "cell_type": "markdown",
      "metadata": {
        "id": "HeMSvOAPfX5S"
      },
      "source": [
        "\n",
        "---\n",
        "# Processing passive seismic data\n",
        "\n",
        "This notebook has some practical processing activities of the Course **ProSeisSN**. It deals with data processing using a passive seismic dataset using [ObsPy](https://docs.obspy.org/).\n",
        "\n",
        "#### Dependencies: Obspy, Numpy, Matplotlib\n",
        "\n",
        "#### Reset the Jupyter/IPython notebook in order to run it again, press:\n",
        "***Kernel*** -> ***Restart & Clear Output***"
      ]
    },
    {
      "cell_type": "code",
      "source": [
        "# Import Libraries\n",
        "import numpy as np\n",
        "import matplotlib.pyplot as plt\n",
        "# matplotlib magic commands\n",
        "#%matplotlib inline\n",
        "#%matplotlib notebook\n",
        "%matplotlib widget\n",
        "\n",
        "# Import specialized ObsPy packages + sanity.\n",
        "try:\n",
        "    import obspy\n",
        "    print('obspy version==>', obspy.__version__)\n",
        "except TypeError:\n",
        "    print('Stopping RUNTIME. ObsPy not found.')\n",
        "    exit()\n",
        "\n",
        "from obspy import read\n",
        "from obspy import UTCDateTime\n",
        "from obspy import read, Stream\n",
        "from obspy.clients.fdsn import Client\n",
        "from obspy.clients.fdsn.header import FDSNException\n",
        "\n",
        "# Local routines\n",
        "from utils import period2freq, freq2period"
      ],
      "metadata": {
        "id": "uzMJ-lGlkGuK"
      },
      "execution_count": null,
      "outputs": []
    },
    {
      "cell_type": "markdown",
      "metadata": {
        "id": "-UQ66x8GfX5U"
      },
      "source": [
        "---\n",
        "## Accessing a local data\n",
        "\n",
        "This lecture serves as a basic introduction to using Obspy. Useful links are the official [Obspy Tutorial](https://docs.obspy.org/tutorial/index.html), and the [Seismo-Live Juypter Notebooks for Seismology](https://krischer.github.io/seismo_live_build/tree/index.html).\n",
        "\n",
        "We work with data form an event occured in Acre in 2024, downloaded using [IRIS Wilber](http://www.iris.edu/wilber3).\n",
        "\n",
        "|EventID | Time | Lat | Long | Depth(km) | Mww | Location |\n",
        "| :- | :-: | :- | :- | :-: | :-: | :- |\n",
        "|11793085|2024-01-20T21:31|-7.2879|-71.464|607|6.6|WESTERN BRAZIL|\n",
        "\n",
        "We will use a data file in miniSEED format: [wb11793085_ir.mseed](https://github.com/jandyr/ProSeisSN_Nbk/blob/main/wb11793085_ir.mseed).\n",
        "\n",
        "Choose stations with epicentral distances $\\left[20^{\\circ},\\,70^{\\circ}\\right]$; waves travel in the laterally homogeneous Mantle, with P and S arrivals.\n",
        "\n",
        "Of the 149 stations operational during the event, select station IU HKT, distant $44^{\\circ}$ from the event.\n",
        "\n",
        "|Station|Seismometer| Lat | Long | Depth(m) | Channels |\n",
        "| :- | :- | :- | :- | :-: | :-: |\n",
        "|HKT: Hockley1 Texas|Streckeisen STS-6A VBB |29.96|-95.84|93|BH1, BH2, BHZ|\n",
        "\n",
        "**Phase Arrivals**\n",
        "\n",
        "|Phase|$\\Delta t$| TIme |\n",
        "| :- | :-: | :- |\n",
        "|P|+7m 14s|21:38:19|\n",
        "|PP|+9m 9s |21:40:14|\n",
        "|S|+13m 4s|21:44:09|\n",
        "|SS|+16m 38s|21:47:43|"
      ]
    },
    {
      "cell_type": "code",
      "execution_count": 3,
      "metadata": {
        "colab": {
          "base_uri": "https://localhost:8080/"
        },
        "id": "ExXuGR-6fX5U",
        "outputId": "f1ff13b2-6f99-489c-d0c7-59351706f20b"
      },
      "outputs": [
        {
          "output_type": "stream",
          "name": "stdout",
          "text": [
            "The first letter is 'y', 'Y', or 'n'.\n"
          ]
        }
      ],
      "source": [
        "# Specify event's start and end times\n",
        "starttime = UTCDateTime(\"2024-01-20T21:37:19.019539Z\") - 60\n",
        "endtime = UTCDateTime(\"2024-01-20T21:58:18.994539Z\")\n",
        "print(starttime, endtime)\n",
        "\n",
        "# Use wildcards to select all three HH* channels\n",
        "net = \"IU\"\n",
        "sta = \"HKT\"\n",
        "loc = \"00\"\n",
        "chan = \"HH*\"\n",
        "\n",
        "# Specify client. Opt:from obspy.clients.earthworm import Client\n",
        "# Get waveforms with instrument response into a stream\n",
        "# List of ObsPy clients: clients = [\"IRIS\", \"NCEDC\", \"USGS\", \"GEONET\", \"RESIF\", \"INGV\", \"BGR\", \"ODC\", \"SCEDC\"]\n",
        "client = Client(\"IRIS\")\n",
        "        try:\n",
        "          st = client.get_waveforms(net, sta, loc, chan, starttime, endtime, attach_response = True)\n",
        "          print(st)\n",
        "        except FDSNException:\n",
        "          print(f\"Client \" + client + \" is not working.\")"
      ]
    },
    {
      "cell_type": "markdown",
      "metadata": {
        "id": "D7F2nggDfX5W"
      },
      "source": [
        "## Example: Fit a cosine to the data"
      ]
    },
    {
      "cell_type": "markdown",
      "metadata": {
        "id": "NOGL6PWYfX5X"
      },
      "source": [
        "First define a Python function where the first input argument are the \"x\" values (an array) and the remaining arguments are the parameters that can be adjusted to find the optimal fit. In this case, a simple cosine function with an adjustable amplitude and frequency is created.\n",
        "\n",
        "$$ \\dot{\\theta} = A \\cos \\omega t $$"
      ]
    },
    {
      "cell_type": "code",
      "execution_count": null,
      "metadata": {
        "id": "UZsDSE2qfX5Y"
      },
      "outputs": [],
      "source": [
        "def cos_func(times, amplitude, frequency):\n",
        "    return amplitude * np.cos(frequency * times)"
      ]
    },
    {
      "cell_type": "markdown",
      "metadata": {
        "id": "rGA-VWe3fX5Y"
      },
      "source": [
        "To check that it works, provide some values:"
      ]
    },
    {
      "cell_type": "code",
      "execution_count": null,
      "metadata": {
        "id": "-ZbqOAghfX5Z"
      },
      "outputs": [],
      "source": [
        "times = np.linspace(0, 10)\n",
        "cos_func(times, 5.0, 5.0)"
      ]
    },
    {
      "cell_type": "code",
      "execution_count": null,
      "metadata": {
        "id": "Od8WY9itfX5Z"
      },
      "outputs": [],
      "source": [
        "fig, ax = plt.subplots()\n",
        "ax.plot(times, cos_func(times, 5.0, 5.0))"
      ]
    },
    {
      "cell_type": "code",
      "execution_count": null,
      "metadata": {
        "id": "6cCCxDIRfX5Z"
      },
      "outputs": [],
      "source": [
        "fig, ax = plt.subplots()\n",
        "ax.plot(radial_gyro_meas.index, cos_func(radial_gyro_meas.index, 5.0, 5.0))"
      ]
    },
    {
      "cell_type": "markdown",
      "metadata": {
        "id": "ekMZ6Y99fX5Z"
      },
      "source": [
        "Now, provide this function to `curve_fit` along with the measure data (x and y) and an initial guess for the amplitude and frequency. A good initial guess is important, as the optimal solution can't always be found from an arbitrary initial guess. The function `curve_fit` returns two items. The first is the optimal values of the two parametes and the second is the covariance matrix that gives an idea of how certain the value of the parameters are. We will just work with the first value for now."
      ]
    },
    {
      "cell_type": "code",
      "execution_count": null,
      "metadata": {
        "id": "9L131Y4OfX5Z"
      },
      "outputs": [],
      "source": [
        "popt, pcov = curve_fit(cos_func,  # our function\n",
        "                       radial_gyro_meas.index,  # measured x values\n",
        "                       radial_gyro_meas.angular_velocity,  # measured y values\n",
        "                       p0=(3.0, period2freq(0.44)))  # the initial guess for the two parameters"
      ]
    },
    {
      "cell_type": "markdown",
      "metadata": {
        "id": "GSyNSHbHfX5a"
      },
      "source": [
        "Now we see the optimal values for the amplitude and frequency:"
      ]
    },
    {
      "cell_type": "code",
      "execution_count": null,
      "metadata": {
        "id": "bwtiTEDMfX5a"
      },
      "outputs": [],
      "source": [
        "popt"
      ]
    },
    {
      "cell_type": "markdown",
      "metadata": {
        "id": "eeEhIUvMfX5a"
      },
      "source": [
        "It is useful to plot the optimal function versus the measured data:"
      ]
    },
    {
      "cell_type": "code",
      "execution_count": null,
      "metadata": {
        "id": "OrrTK5Z7fX5a"
      },
      "outputs": [],
      "source": [
        "fig, ax = plt.subplots(1, 1)\n",
        "ax.plot(radial_gyro_meas.index, radial_gyro_meas.angular_velocity, '.', label='Measured')\n",
        "ax.plot(radial_gyro_meas.index, cos_func(radial_gyro_meas.index, popt[0], popt[1]), label='Best Fit')\n",
        "ax.legend()"
      ]
    },
    {
      "cell_type": "markdown",
      "metadata": {
        "id": "7t_ig__9fX5a"
      },
      "source": [
        "That looks like a pretty nice fit! The period of this fitted function can now be computed:"
      ]
    },
    {
      "cell_type": "code",
      "execution_count": null,
      "metadata": {
        "id": "qXauX2kjfX5a"
      },
      "outputs": [],
      "source": [
        "freq2period(popt[1])"
      ]
    },
    {
      "cell_type": "markdown",
      "metadata": {
        "id": "5_szKJtnfX5a"
      },
      "source": [
        "## Exercise\n",
        "\n",
        "This system, just like the book on a cup system has an amplitude that decreases with respect to time. This decrease is often referred to as a *decaying amplitude*. We just fit the mathematical function:\n",
        "\n",
        "$$ \\dot{\\theta}(t) = A \\cos{\\omega t} $$\n",
        "\n",
        "where $A$ is the amplitude of the angular rate $\\dot{\\theta}$ and $\\omega$ is the frequency of oscillation in radians per second. One way to account for the decay in amplitude oscillation is to introduce a multiplicative factor of $e^{-\\lambda t}$ into the equation. This will cause exponential decay at the rate $\\lambda$ (units are 1 / s). The mathematical equation will look like:\n",
        "\n",
        "$$ \\dot{\\theta}(t) = A e^{-\\lambda t} \\cos{\\omega t} $$\n",
        "\n",
        "Recall that $e^{-\\lambda t}$ looks like:"
      ]
    },
    {
      "cell_type": "code",
      "execution_count": null,
      "metadata": {
        "id": "zntbgJVafX5b"
      },
      "outputs": [],
      "source": [
        "fig, ax = plt.subplots()\n",
        "t = np.linspace(0, 2, num=100)\n",
        "ax.plot(t, np.exp(-1.5 * t));"
      ]
    },
    {
      "cell_type": "markdown",
      "metadata": {
        "solution2": "hidden",
        "solution2_first": true,
        "id": "LLk9pX38fX5b"
      },
      "source": [
        "Use decaying oscillation mathematical function to create a curve fitting function and find the values of $A$, $\\lambda$, and $\\omega$ that best fit the data. Calculate the period of oscillation and compare it to the period from the purely sinusoidal fit from above. Is there any difference in the period of oscillation?"
      ]
    },
    {
      "cell_type": "code",
      "execution_count": null,
      "metadata": {
        "id": "4zgBWO_nfX5b"
      },
      "outputs": [],
      "source": [
        "# write solution here"
      ]
    },
    {
      "cell_type": "code",
      "execution_count": null,
      "metadata": {
        "jupyter": {
          "source_hidden": true
        },
        "solution2": "hidden",
        "id": "HdAPnf4HfX5c"
      },
      "outputs": [],
      "source": [
        "def decaying_sinusoid(t, a, lam, w):\n",
        "    return a * np.exp(lam * t) * np.cos(w * t)\n",
        "\n",
        "popt, pcov = curve_fit(decaying_sinusoid,\n",
        "                       radial_gyro_meas.index,\n",
        "                       radial_gyro_meas.angular_velocity,\n",
        "                       p0=(3.0, -0.0002, period2freq(0.44)))\n",
        "\n",
        "fig, ax = plt.subplots(1, 1)\n",
        "ax.plot(radial_gyro_meas.index, radial_gyro_meas, '.')\n",
        "ax.plot(radial_gyro_meas.index, decaying_sinusoid(radial_gyro_meas.index, popt[0], popt[1], popt[2]));\n",
        "\n",
        "freq2period(popt[2])"
      ]
    }
  ],
  "metadata": {
    "kernelspec": {
      "display_name": "Python 3",
      "language": "python",
      "name": "python3"
    },
    "language_info": {
      "codemirror_mode": {
        "name": "ipython",
        "version": 3
      },
      "file_extension": ".py",
      "mimetype": "text/x-python",
      "name": "python",
      "nbconvert_exporter": "python",
      "pygments_lexer": "ipython3",
      "version": "3.6.7"
    },
    "colab": {
      "provenance": []
    }
  },
  "nbformat": 4,
  "nbformat_minor": 0
}