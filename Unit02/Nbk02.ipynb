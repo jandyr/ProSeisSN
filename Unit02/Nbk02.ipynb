{
 "cells": [
  {
   "cell_type": "markdown",
   "metadata": {
    "id": "HeMSvOAPfX5S"
   },
   "source": [
    "\n",
    "---\n",
    "# Processing passive seismic data: Retrieving earthquake data\n",
    "\n",
    "This notebook has some practical processing activities of the Course **ProSeisSN**. It deals with data processing using a passive seismic dataset using [ObsPy](https://docs.obspy.org/).\n",
    "\n",
    "#### Dependencies: Obspy, Numpy, Matplotlib\n",
    "\n",
    "#### Reset the Jupyter/IPython notebook in order to run it again, press:\n",
    "***Kernel*** -> ***Restart & Clear Output***"
   ]
  },
  {
   "cell_type": "code",
   "execution_count": null,
   "metadata": {
    "id": "ByTi5EIylyj6"
   },
   "outputs": [],
   "source": [
    "# This is needed for mathplotlib\n",
    "!conda update -y ipywidgets"
   ]
  },
  {
   "cell_type": "code",
   "execution_count": null,
   "metadata": {
    "colab": {
     "base_uri": "https://localhost:8080/",
     "height": 480
    },
    "id": "uzMJ-lGlkGuK",
    "outputId": "66c27f9e-fd21-4a54-ed6d-6a23b77ec540"
   },
   "outputs": [],
   "source": [
    "# Import Libraries\n",
    "import numpy as np\n",
    "\n",
    "import matplotlib\n",
    "matplotlib.use('nbagg')\n",
    "import matplotlib.pyplot as plt\n",
    "import matplotlib.dates as mdates\n",
    "\"\"\"\n",
    "Activate the ipympl backend by including\n",
    "%matplotlib ipympl\n",
    "magic in the notebook or by\n",
    "%matplotlib widget\n",
    "which will have the same effect.\n",
    "\n",
    "Other magic:\n",
    "%matplotlib inline\n",
    "%matplotlib notebook\n",
    "\"\"\"\n",
    "%matplotlib widget\n",
    "\n",
    "# Import specialized ObsPy packages + sanity.\n",
    "try:\n",
    "    import obspy\n",
    "    print('obspy version==>', obspy.__version__)\n",
    "except TypeError:\n",
    "    print('Stopping RUNTIME. ObsPy not found.')\n",
    "    exit()\n",
    "\n",
    "from obspy import read\n",
    "from obspy import Stream\n",
    "from obspy import UTCDateTime\n",
    "from obspy import read, Stream\n",
    "from obspy.clients.fdsn import Client\n",
    "from obspy.clients.fdsn.header import FDSNException\n",
    "\n",
    "# Local routines. This is just a memo, does not do anything.\n",
    "from utils import period2freq, freq2period\n",
    "_ = freq2period(1.)"
   ]
  },
  {
   "cell_type": "markdown",
   "metadata": {
    "id": "-UQ66x8GfX5U"
   },
   "source": [
    "---\n",
    "## Accessing a local data\n",
    "\n",
    "This lecture serves as a basic introduction to using Obspy. Useful links are the official [Obspy Tutorial](https://docs.obspy.org/tutorial/index.html), and the [Seismo-Live Juypter Notebooks for Seismology](https://krischer.github.io/seismo_live_build/tree/index.html).\n",
    "\n",
    "We work with data form an event occured in Acre in 2024, downloaded using [IRIS Wilber](http://www.iris.edu/wilber3).\n",
    "\n",
    "|EventID | Time | Lat | Long | Depth(km) | Mww | Location |\n",
    "| :- | :-: | :- | :- | :-: | :-: | :- |\n",
    "|11793085|2024-01-20T21:31|-7.2879|-71.464|607|6.6|WESTERN BRAZIL|\n",
    "\n",
    "We will use a data file in miniSEED format: [wb11793085_ir.mseed](https://github.com/jandyr/ProSeisSN_Nbk/blob/main/wb11793085_ir.mseed).\n",
    "\n",
    "Choose stations with epicentral distances $\\left[20^{\\circ},\\,70^{\\circ}\\right]$; waves travel in the laterally homogeneous Mantle, with P and S arrivals.\n",
    "\n",
    "Of the 149 stations operational during the event, select station IU HKT, distant $44^{\\circ}$ from the event.\n",
    "\n",
    "|Station|Seismometer| Lat | Long | Depth(m) | Channels |\n",
    "| :- | :- | :- | :- | :-: | :-: |\n",
    "|HKT: Hockley1 Texas|Streckeisen STS-6A VBB |29.96|-95.84|93|BH1, BH2, BHZ|\n",
    "\n",
    "**Phase Arrivals**\n",
    "\n",
    "|Phase|$\\Delta t$| TIme |\n",
    "| :- | :-: | :- |\n",
    "|P|+7m 14s|21:38:19|\n",
    "|PP|+9m 9s |21:40:14|\n",
    "|S|+13m 4s|21:44:09|\n",
    "|SS|+16m 38s|21:47:43|"
   ]
  },
  {
   "cell_type": "code",
   "execution_count": null,
   "metadata": {
    "colab": {
     "base_uri": "https://localhost:8080/"
    },
    "id": "ExXuGR-6fX5U",
    "outputId": "f1ff13b2-6f99-489c-d0c7-59351706f20b"
   },
   "outputs": [],
   "source": [
    "# Specify event's start and end times\n",
    "starttime = UTCDateTime(\"2024-01-20T21:37:19.019539Z\") - 60\n",
    "endtime = UTCDateTime(\"2024-01-20T21:58:18.994539Z\")\n",
    "print(starttime, endtime)\n",
    "\n",
    "# Use wildcards to select all three HH* channels\n",
    "net = \"IU\"\n",
    "sta = \"HKT\"\n",
    "loc = \"00\"\n",
    "chan = \"HH*\"\n",
    "\n",
    "# Specify client. Opt:from obspy.clients.earthworm import Client\n",
    "# Get waveforms with instrument response into a stream\n",
    "# List of ObsPy clients: clients = [\"IRIS\", \"NCEDC\", \"USGS\", \"GEONET\", \"RESIF\", \"INGV\", \"BGR\", \"ODC\", \"SCEDC\"]\n",
    "try:\n",
    "  client = Client(\"IRIS\")\n",
    "  st0 = client.get_waveforms(net, sta, loc, chan, starttime, endtime, attach_response = True)\n",
    "except FDSNException:\n",
    "  print(f\"Chosen client is not working.\")\n",
    "  from obspy.clients.earthworm import Client\n",
    "  client = Client(\"ETH\")\n",
    "  st0 = client.get_waveforms(net, sta, loc, chan, starttime, endtime, attach_response = True)"
   ]
  },
  {
   "cell_type": "markdown",
   "metadata": {
    "id": "3GKk30aYxd8A"
   },
   "source": [
    "\n",
    "- Plot all the 3-component/trace stream. The Vertical, z-component, is the last one."
   ]
  },
  {
   "cell_type": "code",
   "execution_count": null,
   "metadata": {
    "id": "tPXqFffqyL6L"
   },
   "outputs": [],
   "source": [
    "# Print stream information\n",
    "print(f\"Stream of Acre event at station IU HKT:\\n {st0}\")\n",
    "# Note the 3-component/trace stream. The Vertical, z-component, is the last.\n",
    "#  Plot the 3 traces tr[0,3], note the implicit for loop from 0 to 2 (=3-1!)\n",
    "#   +─+─> vertical component HZ\n",
    "st0[-1].plot()"
   ]
  },
  {
   "cell_type": "markdown",
   "metadata": {
    "id": "dYHMd0LNtKvm"
   },
   "source": [
    "---\n",
    "### Remove the instrument response\n",
    "\n",
    "_(i)  If necessary make a *deep* copy of the original stream as the function **remove_response** acts on the data, overwriting the original stream._\n",
    "\n",
    "_(ii) Express the ground motion in velocity, **output = 'VEL'**, in units of velocity (m/s)._\n",
    "\n",
    "The process involves multiplication with the inverse of the instrument response, which usually attain small numerical values at both frequency ends. This results in the signal+noise being multiplied by relatively large numbers, making noise contribution large. This can be alleviated by tapering the signal or imposing a *cap* to the inverse of the instrument response.\n",
    "\n",
    "_Caution:_ If you run the code below more than once the function **remove_response** will corrupt the data because the original stream is lost. Use the copy of the original stream if needed."
   ]
  },
  {
   "cell_type": "code",
   "execution_count": null,
   "metadata": {
    "colab": {
     "base_uri": "https://localhost:8080/",
     "height": 211
    },
    "id": "WtFHECpNtrUF",
    "outputId": "86533dd0-e8b0-4ae1-f839-2ad9d21d0ba1"
   },
   "outputs": [],
   "source": [
    "# Deep copy of the original stream\n",
    "st1 = st0.copy()\n",
    "\n",
    "# Remove instrument response in all the 3 components/traces. Other options: output = 'DISP', 'ACC'\n",
    "st1.remove_response(output = 'VEL')\n",
    "\n",
    "# Plot the corrected Z component\n",
    "st1[-1].plot(color = 'blue')\n"
   ]
  },
  {
   "cell_type": "markdown",
   "metadata": {
    "id": "D7F2nggDfX5W"
   },
   "source": [
    "---\n",
    "### The frequency content\n",
    "\n",
    "The [spectrogram](https://docs.obspy.org/tutorial/code_snippets/plotting_spectrograms.html) shows the power in frequency bands (along the y-axis) for every few samples in time (along the x-axis). Warmer colors indicate more power.\n",
    "\n",
    "The station has most of its power below 1 Hz, which is common for a time/period dominated by seismic noise."
   ]
  },
  {
   "cell_type": "code",
   "execution_count": null,
   "metadata": {
    "id": "BJVck1ks01Uw"
   },
   "outputs": [],
   "source": [
    "# Construct a figure for BHZ trace\n",
    "fig, ax = plt.subplots()\n",
    "_ = st1[-1].spectrogram(log=True, dbscale=True, axes=ax, show=True, cmap = \"jet\")\n",
    "plt.xlabel(\"Time(s)\")\n",
    "plt.ylabel(\"Frequency(Hz)\")\n",
    "#plt.title(\"Plot Title\")\n",
    "#plt.legend() # If you have multiple lines in the plot\n",
    "plt.grid(True) # Add a grid to the plot\n",
    "plt.show()"
   ]
  },
  {
   "cell_type": "markdown",
   "metadata": {},
   "source": [
    "---\n",
    "### Save the corrected data\n",
    "\n",
    "Save the data with the instrument response removed for further work, in the same directory as this Jupyter notebook.\n",
    "\n",
    "_Save the data in miniSEED_ specifying file path, name, extension, and data format:\n",
    "\n",
    "**stream.write('/path/filename.mseed', format='MSEED')**."
   ]
  },
  {
   "cell_type": "code",
   "execution_count": null,
   "metadata": {},
   "outputs": [],
   "source": [
    "# Save it with event code in the name (wb=western-brazil, ir=nstrument response removed)\n",
    "filename = 'wb11793085ir' + '.mseed'\n",
    "dummy = input(f'>> Save instrument corrected data '+filename+' (rtn = No): \\n') or False\n",
    "if not dummy:\n",
    "    st.write(filename, format='MSEED')\n",
    "    try:\n",
    "        dummy = read(filename)\n",
    "        print(f\"Instrument-corrected Z-data at station IU HKT:\\n {dummy[-1].stats}\")\n",
    "    except:\n",
    "        print(f\".\")\n",
    "        print(f\"Failed to write the data if file {filename}\")"
   ]
  },
  {
   "cell_type": "code",
   "execution_count": null,
   "metadata": {},
   "outputs": [],
   "source": []
  }
 ],
 "metadata": {
  "colab": {
   "provenance": []
  },
  "kernelspec": {
   "display_name": "Python 3 (ipykernel)",
   "language": "python",
   "name": "python3"
  },
  "language_info": {
   "codemirror_mode": {
    "name": "ipython",
    "version": 3
   },
   "file_extension": ".py",
   "mimetype": "text/x-python",
   "name": "python",
   "nbconvert_exporter": "python",
   "pygments_lexer": "ipython3",
   "version": "3.12.3"
  }
 },
 "nbformat": 4,
 "nbformat_minor": 4
}
