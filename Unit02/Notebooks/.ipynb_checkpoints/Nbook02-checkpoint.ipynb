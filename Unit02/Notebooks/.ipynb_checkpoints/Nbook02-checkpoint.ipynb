{
 "cells": [
  {
   "cell_type": "markdown",
   "metadata": {
    "id": "1zTrGT3dQrSW"
   },
   "source": [
    "# Processing passive seismic data\n",
    "\n",
    "This notebook deals with reading, writing and basic processing passive seismic data using [ObsPy](https://docs.obspy.org/).\n",
    "\n",
    "## This is intended to be run in Colab.\n",
    "\n",
    "# ***Create virtual environment in Goggle Colab***\n",
    "\n",
    "\n",
    "### Use **condacolab** to install Conda, using **pip**.\n",
    "\n",
    "### Import the **condacolab** package. Call the **install()** function, to install the Conda into the *Colab notebook*.\n",
    "\n",
    "### Create an *environment*, and install the required *packages* for the work.\n",
    "\n",
    "## ***Attn:*** Every time you quit or reset the runtime, you wil need to install Conda again.\n",
    "\n",
    "\n",
    "\n",
    "\n",
    "#### Dependencies: Obspy, Numpy, Matplotlib\n",
    "\n",
    "#### Reset the Jupyter/IPython notebook in order to run it again, press:\n",
    "***Kernel*** -> ***Restart & Clear Output***"
   ]
  },
  {
   "cell_type": "markdown",
   "metadata": {
    "id": "NDxK3mML_sIh"
   },
   "source": [
    "---\n",
    "## Accessing a local data\n",
    "\n",
    "This lecture serves as a basic introduction to using Obspy. Useful links are the official [Obspy Tutorial](https://docs.obspy.org/tutorial/index.html), and the [Seismo-Live Juypter Notebooks for Seismology](https://krischer.github.io/seismo_live_build/tree/index.html).\n",
    "\n",
    "We work with data form an event occured in Acre in 2024, downloaded using [IRIS Wilber](http://www.iris.edu/wilber3).\n",
    "\n",
    "|EventID | Time | Lat | Long | Depth(km) | Mww | Location |\n",
    "| :- | :-: | :- | :- | :-: | :-: | :- |\n",
    "|11793085|2024-01-20T21:31|-7.2879|-71.464|607|6.6|WESTERN BRAZIL|\n",
    "\n",
    "We will use a data file in miniSEED format: [2024-01-20-mww66-western-brazil.miniseed](https://github.com/jandyr/ProSeisSN/tree/main/Unit01/Expositive),\n",
    "\n",
    "Choose stations with epicentral distances $\\left[20^{\\circ},\\,70^{\\circ}\\right]$; waves travel in the laterally homogeneous Mantle, with P and S arrivals.\n",
    "\n",
    "Of the 149 stations operational during the event, select station IU HKT, distant $44^{\\circ}$ from the event.\n",
    "\n",
    "|Station|Seismometer| Lat | Long | Depth(m) | Channels |\n",
    "| :- | :- | :- | :- | :-: | :-: |\n",
    "|HKT: Hockley1 Texas|Streckeisen STS-6A VBB |29.96|-95.84|93|BH1, BH2, BHZ|\n",
    "\n",
    "**Phase Arrivals**\n",
    "\n",
    "|Phase|$\\Delta t$| TIme |\n",
    "| :- | :-: | :- |\n",
    "|P|+7m 14s|21:38:19|\n",
    "|PP|+9m 9s |21:40:14|\n",
    "|S|+13m 4s|21:44:09|\n",
    "|SS|+16m 38s|21:47:43|"
   ]
  },
  {
   "cell_type": "markdown",
   "metadata": {
    "id": "hwxkSEiXEKVn"
   },
   "source": [
    "---\n",
    "## Install Conda\n",
    "* The `condacolab` commands need to be run as the first Code cell!\n",
    "* After `condacolab.install()`, the Python kernel will be restarted.\n",
    "* Do not use the `Run all` option. Run the `condacolab` cell _individually_ and wait for the kernel to restart.\n",
    "* You can only use the `base` environment. Do not try to create new ones; instead update `base` with either:\n",
    "  * `conda install <packages>`\n",
    "  * `conda env update -n base -f environment.yml`"
   ]
  },
  {
   "cell_type": "code",
   "execution_count": 4,
   "metadata": {
    "colab": {
     "base_uri": "https://localhost:8080/"
    },
    "id": "4bt_TamvFMz_",
    "outputId": "cd159202-b7cc-4f6b-fd28-6c9c4390cdd1"
   },
   "outputs": [
    {
     "name": "stdout",
     "output_type": "stream",
     "text": [
      "✨🍰✨ Everything looks OK!\n"
     ]
    }
   ],
   "source": [
    "# Import and innstall condacolab python library.\n",
    "!pip install -q condacolab\n",
    "import condacolab\n",
    "condacolab.install()"
   ]
  },
  {
   "cell_type": "code",
   "execution_count": 12,
   "metadata": {
    "colab": {
     "base_uri": "https://localhost:8080/"
    },
    "id": "V2joec4SFhWz",
    "outputId": "52a44389-ed16-4053-e9c1-ea4dfba1d2b0"
   },
   "outputs": [
    {
     "name": "stdout",
     "output_type": "stream",
     "text": [
      "✨🍰✨ Everything looks OK!\n"
     ]
    }
   ],
   "source": [
    "#  kernel restart HERE!\n",
    "import condacolab\n",
    "condacolab.check()"
   ]
  },
  {
   "cell_type": "code",
   "execution_count": 16,
   "metadata": {
    "colab": {
     "base_uri": "https://localhost:8080/"
    },
    "collapsed": true,
    "id": "NZngyofTmfBC",
    "outputId": "dd643033-3725-4609-9846-3015b27e4bcc"
   },
   "outputs": [
    {
     "name": "stdout",
     "output_type": "stream",
     "text": [
      "conda 23.11.0\n",
      "Channels:\n",
      " - conda-forge\n",
      "Platform: linux-64\n",
      "Collecting package metadata (repodata.json): - \b\b\\ \b\b| \b\b/ \b\b- \b\b\\ \b\b| \b\b/ \b\b- \b\b\\ \b\b| \b\b/ \b\b- \b\b\\ \b\b| \b\b/ \b\b- \b\b\\ \b\b| \b\b/ \b\b- \b\b\\ \b\b| \b\b/ \b\b- \b\b\\ \b\b| \b\b/ \b\b- \b\b\\ \b\b| \b\b/ \b\b- \b\b\\ \b\b| \b\b/ \b\b- \b\b\\ \b\b| \b\b/ \b\b- \b\b\\ \b\b| \b\b/ \b\b- \b\b\\ \b\b| \b\b/ \b\b- \b\b\\ \b\b| \b\b/ \b\b- \b\b\\ \b\b| \b\b/ \b\b- \b\b\\ \b\b| \b\b/ \b\b- \b\b\\ \b\b| \b\b/ \b\b- \b\b\\ \b\b| \b\b/ \b\b- \b\b\\ \b\b| \b\b/ \b\b- \b\b\\ \b\b| \b\b/ \b\b- \b\b\\ \b\b| \b\b/ \b\b- \b\b\\ \b\b| \b\b/ \b\b- \b\b\\ \b\b| \b\b/ \b\b- \b\b\\ \b\b| \b\b/ \b\b- \b\b\\ \b\b| \b\b/ \b\b- \b\b\\ \b\b| \b\b/ \b\b- \b\b\\ \b\b| \b\b/ \b\b- \b\b\\ \b\b| \b\b/ \b\b- \b\b\\ \b\b| \b\b/ \b\b- \b\b\\ \b\b| \b\b/ \b\b- \b\b\\ \b\b| \b\b/ \b\b- \b\b\\ \b\b| \b\b/ \b\b- \b\b\\ \b\b| \b\b/ \b\b- \b\b\\ \b\b| \b\b/ \b\b- \b\b\\ \b\b| \b\b/ \b\b- \b\b\\ \b\b| \b\b/ \b\b- \b\b\\ \b\b| \b\b/ \b\b- \b\b\\ \b\b| \b\b/ \b\b- \b\b\\ \b\b| \b\b/ \b\b- \b\b\\ \b\b| \b\b/ \b\b- \b\b\\ \b\b| \b\b/ \b\b- \b\b\\ \b\b| \b\b/ \b\b- \b\b\\ \b\b| \b\b/ \b\b- \b\b\\ \b\b| \b\b/ \b\b- \b\b\\ \b\b| \b\b/ \b\b- \b\b\\ \b\b| \b\b/ \b\b- \b\b\\ \b\b| \b\b/ \b\b- \b\b\\ \b\b| \b\b/ \b\b- \b\b\\ \b\b| \b\b/ \b\b- \b\b\\ \b\b| \b\b/ \b\b- \b\b\\ \b\b| \b\b/ \b\b- \b\b\\ \b\b| \b\b/ \b\b- \b\b\\ \b\b| \b\b/ \b\b- \b\b\\ \b\b| \b\b/ \b\b- \b\b\\ \b\b| \b\b/ \b\b- \b\b\\ \b\b| \b\b/ \b\b- \b\b\\ \b\b| \b\b/ \b\b- \b\b\\ \b\b| \b\b/ \b\b- \b\b\\ \b\b| \b\b/ \b\b- \b\b\\ \b\b| \b\bdone\n",
      "Solving environment: - \b\b\\ \b\b| \b\bdone\n",
      "\n",
      "\n",
      "==> WARNING: A newer version of conda exists. <==\n",
      "    current version: 23.11.0\n",
      "    latest version: 24.7.1\n",
      "\n",
      "Please update conda by running\n",
      "\n",
      "    $ conda update -n base -c conda-forge conda\n",
      "\n",
      "\n",
      "\n",
      "# All requested packages already installed.\n",
      "\n",
      "conda 23.11.0\n",
      "\n",
      "\n",
      "==> WARNING: A newer version of conda exists. <==\n",
      "    current version: 23.11.0\n",
      "    latest version: 24.7.1\n",
      "\n",
      "Please update conda by running\n",
      "\n",
      "    $ conda update -n base -c conda-forge conda\n",
      "\n",
      "\n",
      "\n",
      "     active environment : None\n",
      "       user config file : /root/.condarc\n",
      " populated config files : /usr/local/.condarc\n",
      "          conda version : 23.11.0\n",
      "    conda-build version : not installed\n",
      "         python version : 3.10.13.final.0\n",
      "                 solver : libmamba (default)\n",
      "       virtual packages : __archspec=1=broadwell\n",
      "                          __conda=23.11.0=0\n",
      "                          __glibc=2.35=0\n",
      "                          __linux=6.1.85=0\n",
      "                          __unix=0=0\n",
      "       base environment : /usr/local  (writable)\n",
      "      conda av data dir : /usr/local/etc/conda\n",
      "  conda av metadata url : None\n",
      "           channel URLs : https://conda.anaconda.org/conda-forge/linux-64\n",
      "                          https://conda.anaconda.org/conda-forge/noarch\n",
      "          package cache : /usr/local/pkgs\n",
      "                          /root/.conda/pkgs\n",
      "       envs directories : /usr/local/envs\n",
      "                          /root/.conda/envs\n",
      "               platform : linux-64\n",
      "             user-agent : conda/23.11.0 requests/2.31.0 CPython/3.10.13 Linux/6.1.85+ ubuntu/22.04.3 glibc/2.35 solver/libmamba conda-libmamba-solver/23.12.0 libmambapy/1.5.5\n",
      "                UID:GID : 0:0\n",
      "             netrc file : None\n",
      "           offline mode : False\n",
      "\n",
      "\n",
      "/usr/local/bin/conda\n",
      "# conda environments:\n",
      "#\n",
      "base                     /usr/local\n",
      "\n",
      "# packages in environment at /usr/local:\n",
      "#\n",
      "# Name                    Version                   Build  Channel\n",
      "_libgcc_mutex             0.1                 conda_forge    conda-forge\n",
      "_openmp_mutex             4.5                       2_gnu    conda-forge\n",
      "alsa-lib                  1.2.12               h4ab18f5_0    conda-forge\n",
      "archspec                  0.2.2              pyhd8ed1ab_0    conda-forge\n",
      "attr                      2.5.1                h166bdaf_1    conda-forge\n",
      "boltons                   23.1.1             pyhd8ed1ab_0    conda-forge\n",
      "brotli                    1.1.0                hd590300_1    conda-forge\n",
      "brotli-bin                1.1.0                hd590300_1    conda-forge\n",
      "brotli-python             1.1.0           py310hc6cd4ac_1    conda-forge\n",
      "bzip2                     1.0.8                hd590300_5    conda-forge\n",
      "c-ares                    1.24.0               hd590300_0    conda-forge\n",
      "ca-certificates           2024.8.30            hbcca054_0    conda-forge\n",
      "cairo                     1.18.0               h3faef2a_0    conda-forge\n",
      "cartopy                   0.23.0          py310hf9f9076_1    conda-forge\n",
      "certifi                   2024.8.30          pyhd8ed1ab_0    conda-forge\n",
      "cffi                      1.16.0          py310h2fee648_0    conda-forge\n",
      "charset-normalizer        3.3.2              pyhd8ed1ab_0    conda-forge\n",
      "colorama                  0.4.6              pyhd8ed1ab_0    conda-forge\n",
      "conda                     23.11.0         py310hff52083_1    conda-forge\n",
      "conda-libmamba-solver     23.12.0            pyhd8ed1ab_0    conda-forge\n",
      "conda-package-handling    2.2.0              pyh38be061_0    conda-forge\n",
      "conda-package-streaming   0.9.0              pyhd8ed1ab_0    conda-forge\n",
      "condacolab                0.1.9                    pypi_0    pypi\n",
      "contourpy                 1.3.0           py310h3788b33_1    conda-forge\n",
      "cycler                    0.12.1             pyhd8ed1ab_0    conda-forge\n",
      "dbus                      1.13.6               h5008d03_3    conda-forge\n",
      "decorator                 5.1.1              pyhd8ed1ab_0    conda-forge\n",
      "distro                    1.8.0              pyhd8ed1ab_0    conda-forge\n",
      "expat                     2.6.2                h59595ed_0    conda-forge\n",
      "fmt                       10.1.1               h00ab1b0_1    conda-forge\n",
      "font-ttf-dejavu-sans-mono 2.37                 hab24e00_0    conda-forge\n",
      "font-ttf-inconsolata      3.000                h77eed37_0    conda-forge\n",
      "font-ttf-source-code-pro  2.038                h77eed37_0    conda-forge\n",
      "font-ttf-ubuntu           0.83                 h77eed37_2    conda-forge\n",
      "fontconfig                2.14.2               h14ed4e7_0    conda-forge\n",
      "fonts-conda-ecosystem     1                             0    conda-forge\n",
      "fonts-conda-forge         1                             0    conda-forge\n",
      "fonttools                 4.53.1          py310ha75aee5_1    conda-forge\n",
      "freetype                  2.12.1               h267a509_2    conda-forge\n",
      "geos                      3.12.2               he02047a_1    conda-forge\n",
      "gettext                   0.22.5               he02047a_3    conda-forge\n",
      "gettext-tools             0.22.5               he02047a_3    conda-forge\n",
      "glib                      2.80.2               hf974151_0    conda-forge\n",
      "glib-tools                2.80.2               hb6ce0ca_0    conda-forge\n",
      "graphite2                 1.3.13            h59595ed_1003    conda-forge\n",
      "greenlet                  3.0.3           py310hc6cd4ac_0    conda-forge\n",
      "gst-plugins-base          1.22.9               hfa15dee_1    conda-forge\n",
      "gstreamer                 1.22.9               h98fc4e7_1    conda-forge\n",
      "harfbuzz                  8.5.0                hfac3d4d_0    conda-forge\n",
      "icu                       73.2                 h59595ed_0    conda-forge\n",
      "idna                      3.6                pyhd8ed1ab_0    conda-forge\n",
      "jsonpatch                 1.33               pyhd8ed1ab_0    conda-forge\n",
      "jsonpointer               2.4             py310hff52083_3    conda-forge\n",
      "keyutils                  1.6.1                h166bdaf_0    conda-forge\n",
      "kiwisolver                1.4.7           py310h3788b33_0    conda-forge\n",
      "krb5                      1.21.2               h659d440_0    conda-forge\n",
      "lame                      3.100             h166bdaf_1003    conda-forge\n",
      "lcms2                     2.16                 hb7c19ff_0    conda-forge\n",
      "ld_impl_linux-64          2.40                 h41732ed_0    conda-forge\n",
      "lerc                      4.0.0                h27087fc_0    conda-forge\n",
      "libarchive                3.7.2                h2aa1ff5_1    conda-forge\n",
      "libasprintf               0.22.5               he8f35ee_3    conda-forge\n",
      "libasprintf-devel         0.22.5               he8f35ee_3    conda-forge\n",
      "libblas                   3.9.0           23_linux64_openblas    conda-forge\n",
      "libbrotlicommon           1.1.0                hd590300_1    conda-forge\n",
      "libbrotlidec              1.1.0                hd590300_1    conda-forge\n",
      "libbrotlienc              1.1.0                hd590300_1    conda-forge\n",
      "libcap                    2.69                 h0f662aa_0    conda-forge\n",
      "libcblas                  3.9.0           23_linux64_openblas    conda-forge\n",
      "libclang                  15.0.7          default_h127d8a8_5    conda-forge\n",
      "libclang13                15.0.7          default_h5d6823c_5    conda-forge\n",
      "libcups                   2.3.3                h4637d8d_4    conda-forge\n",
      "libcurl                   8.5.0                hca28451_0    conda-forge\n",
      "libdeflate                1.20                 hd590300_0    conda-forge\n",
      "libedit                   3.1.20191231         he28a2e2_2    conda-forge\n",
      "libev                     4.33                 hd590300_2    conda-forge\n",
      "libevent                  2.1.12               hf998b51_1    conda-forge\n",
      "libexpat                  2.6.2                h59595ed_0    conda-forge\n",
      "libffi                    3.4.2                h7f98852_5    conda-forge\n",
      "libflac                   1.4.3                h59595ed_0    conda-forge\n",
      "libgcc                    14.1.0               h77fa898_1    conda-forge\n",
      "libgcc-ng                 14.1.0               h69a702a_1    conda-forge\n",
      "libgcrypt                 1.11.0               h4ab18f5_1    conda-forge\n",
      "libgettextpo              0.22.5               he02047a_3    conda-forge\n",
      "libgettextpo-devel        0.22.5               he02047a_3    conda-forge\n",
      "libgfortran               14.1.0               h69a702a_1    conda-forge\n",
      "libgfortran-ng            14.1.0               h69a702a_1    conda-forge\n",
      "libgfortran5              14.1.0               hc5f4f2c_1    conda-forge\n",
      "libglib                   2.80.2               hf974151_0    conda-forge\n",
      "libgomp                   14.1.0               h77fa898_1    conda-forge\n",
      "libgpg-error              1.50                 h4f305b6_0    conda-forge\n",
      "libiconv                  1.17                 hd590300_2    conda-forge\n",
      "libjpeg-turbo             3.0.0                hd590300_1    conda-forge\n",
      "liblapack                 3.9.0           23_linux64_openblas    conda-forge\n",
      "libllvm15                 15.0.7               hb3ce162_4    conda-forge\n",
      "libmamba                  1.5.5                had39da4_0    conda-forge\n",
      "libmambapy                1.5.5           py310h39ff949_0    conda-forge\n",
      "libnghttp2                1.58.0               h47da74e_1    conda-forge\n",
      "libnsl                    2.0.1                hd590300_0    conda-forge\n",
      "libogg                    1.3.5                h4ab18f5_0    conda-forge\n",
      "libopenblas               0.3.27          pthreads_hac2b453_1    conda-forge\n",
      "libopus                   1.3.1                h7f98852_1    conda-forge\n",
      "libpng                    1.6.43               h2797004_0    conda-forge\n",
      "libpq                     16.3                 ha72fbe1_0    conda-forge\n",
      "libsndfile                1.2.2                hc60ed4a_1    conda-forge\n",
      "libsolv                   0.7.27               hfc55251_0    conda-forge\n",
      "libsqlite                 3.44.2               h2797004_0    conda-forge\n",
      "libssh2                   1.11.0               h0841786_0    conda-forge\n",
      "libstdcxx                 14.1.0               hc0a3c3a_1    conda-forge\n",
      "libstdcxx-ng              13.2.0               h7e041cc_3    conda-forge\n",
      "libsystemd0               255                  h3516f8a_1    conda-forge\n",
      "libtiff                   4.6.0                h1dd3fc0_3    conda-forge\n",
      "libuuid                   2.38.1               h0b41bf4_0    conda-forge\n",
      "libvorbis                 1.3.7                h9c3ff4c_0    conda-forge\n",
      "libwebp-base              1.4.0                hd590300_0    conda-forge\n",
      "libxcb                    1.15                 h0b41bf4_0    conda-forge\n",
      "libxkbcommon              1.6.0                hd429924_1    conda-forge\n",
      "libxml2                   2.12.3               h232c23b_0    conda-forge\n",
      "libxslt                   1.1.39               h76b75d6_0    conda-forge\n",
      "libzlib                   1.2.13               hd590300_5    conda-forge\n",
      "lxml                      5.1.0           py310hcfd0673_0    conda-forge\n",
      "lz4-c                     1.9.4                hcb278e6_0    conda-forge\n",
      "lzo                       2.10              h516909a_1000    conda-forge\n",
      "mamba                     1.5.5           py310h51d5547_0    conda-forge\n",
      "matplotlib                3.9.1           py310hff52083_1    conda-forge\n",
      "matplotlib-base           3.9.1           py310hf02ac8c_2    conda-forge\n",
      "menuinst                  2.0.1           py310hff52083_0    conda-forge\n",
      "mpg123                    1.32.6               h59595ed_0    conda-forge\n",
      "munkres                   1.1.4              pyh9f0ad1d_0    conda-forge\n",
      "mysql-common              8.0.33               hf1915f5_6    conda-forge\n",
      "mysql-libs                8.0.33               hca2cd23_6    conda-forge\n",
      "ncurses                   6.4                  h59595ed_2    conda-forge\n",
      "nspr                      4.35                 h27087fc_0    conda-forge\n",
      "nss                       3.97                 h1d7d5a4_0    conda-forge\n",
      "numpy                     2.1.1           py310hd6e36ab_0    conda-forge\n",
      "obspy                     1.3.0           py310hde88566_0    conda-forge\n",
      "openjpeg                  2.5.2                h488ebb8_0    conda-forge\n",
      "openssl                   3.3.2                hb9d3cd8_0    conda-forge\n",
      "packaging                 23.2               pyhd8ed1ab_0    conda-forge\n",
      "pandas                    2.2.2           py310hf9f9076_1    conda-forge\n",
      "pcre2                     10.43                hcad00b1_0    conda-forge\n",
      "pillow                    10.3.0          py310hf73ecf8_0    conda-forge\n",
      "pip                       23.3.2             pyhd8ed1ab_0    conda-forge\n",
      "pixman                    0.43.2               h59595ed_0    conda-forge\n",
      "platformdirs              4.1.0              pyhd8ed1ab_0    conda-forge\n",
      "pluggy                    1.3.0              pyhd8ed1ab_0    conda-forge\n",
      "ply                       3.11               pyhd8ed1ab_2    conda-forge\n",
      "proj                      9.3.1                h1d62c97_0    conda-forge\n",
      "pthread-stubs             0.4               h36c2ea0_1001    conda-forge\n",
      "pulseaudio-client         16.1                 hb77b528_5    conda-forge\n",
      "pybind11-abi              4                    hd8ed1ab_3    conda-forge\n",
      "pycosat                   0.6.6           py310h2372a71_0    conda-forge\n",
      "pycparser                 2.21               pyhd8ed1ab_0    conda-forge\n",
      "pyparsing                 3.1.4              pyhd8ed1ab_0    conda-forge\n",
      "pyproj                    3.6.1           py310hd5c30f3_5    conda-forge\n",
      "pyqt                      5.15.9          py310h04931ad_5    conda-forge\n",
      "pyqt5-sip                 12.12.2         py310hc6cd4ac_5    conda-forge\n",
      "pyshp                     2.3.1              pyhd8ed1ab_0    conda-forge\n",
      "pysocks                   1.7.1              pyha2e5f31_6    conda-forge\n",
      "python                    3.10.13         hd12c33a_0_cpython    conda-forge\n",
      "python-dateutil           2.9.0              pyhd8ed1ab_0    conda-forge\n",
      "python-tzdata             2024.1             pyhd8ed1ab_0    conda-forge\n",
      "python_abi                3.10                    4_cp310    conda-forge\n",
      "pytz                      2024.1             pyhd8ed1ab_0    conda-forge\n",
      "qhull                     2020.2               h434a139_5    conda-forge\n",
      "qt-main                   5.15.8              h450f30e_18    conda-forge\n",
      "readline                  8.2                  h8228510_1    conda-forge\n",
      "reproc                    14.2.4.post0         hd590300_1    conda-forge\n",
      "reproc-cpp                14.2.4.post0         h59595ed_1    conda-forge\n",
      "requests                  2.31.0             pyhd8ed1ab_0    conda-forge\n",
      "ruamel.yaml               0.18.5          py310h2372a71_0    conda-forge\n",
      "ruamel.yaml.clib          0.2.7           py310h2372a71_2    conda-forge\n",
      "scipy                     1.14.1          py310ha3fb0e1_0    conda-forge\n",
      "segyio                    1.9.12          py310hf9f9076_2    conda-forge\n",
      "setuptools                68.2.2             pyhd8ed1ab_0    conda-forge\n",
      "shapely                   2.0.6           py310h64a4ca9_1    conda-forge\n",
      "sip                       6.7.12          py310hc6cd4ac_0    conda-forge\n",
      "six                       1.16.0             pyh6c4a22f_0    conda-forge\n",
      "sqlalchemy                2.0.34          py310ha75aee5_0    conda-forge\n",
      "sqlite                    3.44.2               h2c6b66d_0    conda-forge\n",
      "tk                        8.6.13          noxft_h4845f30_101    conda-forge\n",
      "toml                      0.10.2             pyhd8ed1ab_0    conda-forge\n",
      "tomli                     2.0.1              pyhd8ed1ab_0    conda-forge\n",
      "tornado                   6.4.1           py310ha75aee5_1    conda-forge\n",
      "tqdm                      4.66.1             pyhd8ed1ab_0    conda-forge\n",
      "truststore                0.8.0              pyhd8ed1ab_0    conda-forge\n",
      "typing-extensions         4.12.2               hd8ed1ab_0    conda-forge\n",
      "typing_extensions         4.12.2             pyha770c72_0    conda-forge\n",
      "tzdata                    2023c                h71feb2d_0    conda-forge\n",
      "unicodedata2              15.1.0          py310h2372a71_0    conda-forge\n",
      "urllib3                   2.1.0              pyhd8ed1ab_0    conda-forge\n",
      "utm                       0.7.0              pyhd8ed1ab_0    conda-forge\n",
      "wheel                     0.42.0             pyhd8ed1ab_0    conda-forge\n",
      "xcb-util                  0.4.0                hd590300_1    conda-forge\n",
      "xcb-util-image            0.4.0                h8ee46fc_1    conda-forge\n",
      "xcb-util-keysyms          0.4.0                h8ee46fc_1    conda-forge\n",
      "xcb-util-renderutil       0.3.9                hd590300_1    conda-forge\n",
      "xcb-util-wm               0.4.1                h8ee46fc_1    conda-forge\n",
      "xkeyboard-config          2.42                 h4ab18f5_0    conda-forge\n",
      "xorg-kbproto              1.0.7             h7f98852_1002    conda-forge\n",
      "xorg-libice               1.1.1                hd590300_0    conda-forge\n",
      "xorg-libsm                1.2.4                h7391055_0    conda-forge\n",
      "xorg-libx11               1.8.9                h8ee46fc_0    conda-forge\n",
      "xorg-libxau               1.0.11               hd590300_0    conda-forge\n",
      "xorg-libxdmcp             1.1.3                h7f98852_0    conda-forge\n",
      "xorg-libxext              1.3.4                h0b41bf4_2    conda-forge\n",
      "xorg-libxrender           0.9.11               hd590300_0    conda-forge\n",
      "xorg-renderproto          0.11.1            h7f98852_1002    conda-forge\n",
      "xorg-xextproto            7.3.0             h0b41bf4_1003    conda-forge\n",
      "xorg-xf86vidmodeproto     2.3.1             h7f98852_1002    conda-forge\n",
      "xorg-xproto               7.0.31            h7f98852_1007    conda-forge\n",
      "xz                        5.2.6                h166bdaf_0    conda-forge\n",
      "yaml-cpp                  0.8.0                h59595ed_0    conda-forge\n",
      "zlib                      1.2.13               hd590300_5    conda-forge\n",
      "zstandard                 0.22.0          py310h1275a96_0    conda-forge\n",
      "zstd                      1.5.5                hfc55251_0    conda-forge\n"
     ]
    }
   ],
   "source": [
    "# Verify the Conda installation. Update.\n",
    "!conda --version\n",
    "!conda update -n base -c conda-forge conda --yes\n",
    "!conda --version\n",
    "\n",
    "# Create environment.yml    printf \"name: ProSeisSN \\n channels:\n",
    "#!printf \"\\n channels: \\n   - defaults \\n   - conda-forge \\n dependencies: \\n   - python>=3.12.5 \\n   - cartopy \\n   - pip \\n   - pip: \\n     - numpy>=1.15.0 \\n     - scipy>=1.4.0 \\n     - matplotlib \\n     - seaborn \\n     - obspy \\n     - jupyterlab \\n     - pandas \\n     - pyqt5 \\n     - pyrocko \\n     - utm \\n     - segyio \\n\" >> environment.yml\n",
    "#!cat environment.yml\n",
    "\n",
    "# Update the base environment\n",
    "!conda install pandas numpy matplotlib numpy>=1.15.0 scipy>=1.4.0 obspy cartopy utm segyio\n",
    "#!conda env update -n base -f environment.yml\n",
    "#Locate the Conda package. List environments. Verify the Conda installation.\n",
    "!conda info\n",
    "!which conda\n",
    "!conda env list\n",
    "!conda list #| grep obspy\n",
    "\n"
   ]
  },
  {
   "cell_type": "code",
   "execution_count": 17,
   "metadata": {
    "id": "P1xlciOwGAcN"
   },
   "outputs": [],
   "source": [
    "from obspy import read"
   ]
  },
  {
   "cell_type": "markdown",
   "metadata": {
    "id": "7Nbg5ntHGIs9"
   },
   "source": [
    "Use the read function with the path to the data file."
   ]
  },
  {
   "cell_type": "code",
   "execution_count": 18,
   "metadata": {
    "colab": {
     "base_uri": "https://localhost:8080/",
     "height": 374
    },
    "id": "dFXFE-hXGqBF",
    "outputId": "a7240905-18f7-43bc-c8ea-936d3ca35122"
   },
   "outputs": [
    {
     "ename": "FileNotFoundError",
     "evalue": "[Errno 2] No such file or directory: '2024-01-20-mww66-western-brazil.miniseed'",
     "output_type": "error",
     "traceback": [
      "\u001b[0;31m---------------------------------------------------------------------------\u001b[0m",
      "\u001b[0;31mFileNotFoundError\u001b[0m                         Traceback (most recent call last)",
      "\u001b[0;32m<ipython-input-18-caacee9dba07>\u001b[0m in \u001b[0;36m<cell line: 1>\u001b[0;34m()\u001b[0m\n\u001b[0;32m----> 1\u001b[0;31m \u001b[0mst\u001b[0m \u001b[0;34m=\u001b[0m \u001b[0mread\u001b[0m\u001b[0;34m(\u001b[0m\u001b[0;34m'2024-01-20-mww66-western-brazil.miniseed'\u001b[0m\u001b[0;34m)\u001b[0m\u001b[0;34m\u001b[0m\u001b[0;34m\u001b[0m\u001b[0m\n\u001b[0m\u001b[1;32m      2\u001b[0m \u001b[0mprint\u001b[0m\u001b[0;34m(\u001b[0m\u001b[0mst\u001b[0m\u001b[0;34m)\u001b[0m\u001b[0;34m\u001b[0m\u001b[0;34m\u001b[0m\u001b[0m\n",
      "\u001b[0;32m<decorator-gen-186>\u001b[0m in \u001b[0;36mread\u001b[0;34m(pathname_or_url, format, headonly, starttime, endtime, nearest_sample, dtype, apply_calib, check_compression, **kwargs)\u001b[0m\n",
      "\u001b[0;32m/usr/local/lib/python3.10/site-packages/obspy/core/util/decorator.py\u001b[0m in \u001b[0;36m_map_example_filename\u001b[0;34m(func, *args, **kwargs)\u001b[0m\n\u001b[1;32m    289\u001b[0m                         \u001b[0;32mexcept\u001b[0m \u001b[0mIOError\u001b[0m\u001b[0;34m:\u001b[0m\u001b[0;34m\u001b[0m\u001b[0;34m\u001b[0m\u001b[0m\n\u001b[1;32m    290\u001b[0m                             \u001b[0;32mpass\u001b[0m\u001b[0;34m\u001b[0m\u001b[0;34m\u001b[0m\u001b[0m\n\u001b[0;32m--> 291\u001b[0;31m         \u001b[0;32mreturn\u001b[0m \u001b[0mfunc\u001b[0m\u001b[0;34m(\u001b[0m\u001b[0;34m*\u001b[0m\u001b[0margs\u001b[0m\u001b[0;34m,\u001b[0m \u001b[0;34m**\u001b[0m\u001b[0mkwargs\u001b[0m\u001b[0;34m)\u001b[0m\u001b[0;34m\u001b[0m\u001b[0;34m\u001b[0m\u001b[0m\n\u001b[0m\u001b[1;32m    292\u001b[0m     \u001b[0;32mreturn\u001b[0m \u001b[0m_map_example_filename\u001b[0m\u001b[0;34m\u001b[0m\u001b[0;34m\u001b[0m\u001b[0m\n\u001b[1;32m    293\u001b[0m \u001b[0;34m\u001b[0m\u001b[0m\n",
      "\u001b[0;32m/usr/local/lib/python3.10/site-packages/obspy/core/stream.py\u001b[0m in \u001b[0;36mread\u001b[0;34m(pathname_or_url, format, headonly, starttime, endtime, nearest_sample, dtype, apply_calib, check_compression, **kwargs)\u001b[0m\n\u001b[1;32m    206\u001b[0m         \u001b[0mst\u001b[0m \u001b[0;34m=\u001b[0m \u001b[0m_create_example_stream\u001b[0m\u001b[0;34m(\u001b[0m\u001b[0mheadonly\u001b[0m\u001b[0;34m=\u001b[0m\u001b[0mheadonly\u001b[0m\u001b[0;34m)\u001b[0m\u001b[0;34m\u001b[0m\u001b[0;34m\u001b[0m\u001b[0m\n\u001b[1;32m    207\u001b[0m     \u001b[0;32melse\u001b[0m\u001b[0;34m:\u001b[0m\u001b[0;34m\u001b[0m\u001b[0;34m\u001b[0m\u001b[0m\n\u001b[0;32m--> 208\u001b[0;31m         \u001b[0mst\u001b[0m \u001b[0;34m=\u001b[0m \u001b[0m_generic_reader\u001b[0m\u001b[0;34m(\u001b[0m\u001b[0mpathname_or_url\u001b[0m\u001b[0;34m,\u001b[0m \u001b[0m_read\u001b[0m\u001b[0;34m,\u001b[0m \u001b[0;34m**\u001b[0m\u001b[0mkwargs\u001b[0m\u001b[0;34m)\u001b[0m\u001b[0;34m\u001b[0m\u001b[0;34m\u001b[0m\u001b[0m\n\u001b[0m\u001b[1;32m    209\u001b[0m \u001b[0;34m\u001b[0m\u001b[0m\n\u001b[1;32m    210\u001b[0m     \u001b[0;32mif\u001b[0m \u001b[0mlen\u001b[0m\u001b[0;34m(\u001b[0m\u001b[0mst\u001b[0m\u001b[0;34m)\u001b[0m \u001b[0;34m==\u001b[0m \u001b[0;36m0\u001b[0m\u001b[0;34m:\u001b[0m\u001b[0;34m\u001b[0m\u001b[0;34m\u001b[0m\u001b[0m\n",
      "\u001b[0;32m/usr/local/lib/python3.10/site-packages/obspy/core/util/base.py\u001b[0m in \u001b[0;36m_generic_reader\u001b[0;34m(pathname_or_url, callback_func, **kwargs)\u001b[0m\n\u001b[1;32m    653\u001b[0m                 \u001b[0;32mraise\u001b[0m \u001b[0mException\u001b[0m\u001b[0;34m(\u001b[0m\u001b[0;34m\"No file matching file pattern: %s\"\u001b[0m \u001b[0;34m%\u001b[0m \u001b[0mpathname\u001b[0m\u001b[0;34m)\u001b[0m\u001b[0;34m\u001b[0m\u001b[0;34m\u001b[0m\u001b[0m\n\u001b[1;32m    654\u001b[0m             \u001b[0;32melif\u001b[0m \u001b[0;32mnot\u001b[0m \u001b[0mglob\u001b[0m\u001b[0;34m.\u001b[0m\u001b[0mhas_magic\u001b[0m\u001b[0;34m(\u001b[0m\u001b[0mpathname\u001b[0m\u001b[0;34m)\u001b[0m \u001b[0;32mand\u001b[0m \u001b[0;32mnot\u001b[0m \u001b[0mPath\u001b[0m\u001b[0;34m(\u001b[0m\u001b[0mpathname\u001b[0m\u001b[0;34m)\u001b[0m\u001b[0;34m.\u001b[0m\u001b[0mis_file\u001b[0m\u001b[0;34m(\u001b[0m\u001b[0;34m)\u001b[0m\u001b[0;34m:\u001b[0m\u001b[0;34m\u001b[0m\u001b[0;34m\u001b[0m\u001b[0m\n\u001b[0;32m--> 655\u001b[0;31m                 \u001b[0;32mraise\u001b[0m \u001b[0mIOError\u001b[0m\u001b[0;34m(\u001b[0m\u001b[0;36m2\u001b[0m\u001b[0;34m,\u001b[0m \u001b[0;34m\"No such file or directory\"\u001b[0m\u001b[0;34m,\u001b[0m \u001b[0mpathname\u001b[0m\u001b[0;34m)\u001b[0m\u001b[0;34m\u001b[0m\u001b[0;34m\u001b[0m\u001b[0m\n\u001b[0m\u001b[1;32m    656\u001b[0m \u001b[0;34m\u001b[0m\u001b[0m\n\u001b[1;32m    657\u001b[0m         \u001b[0mgeneric\u001b[0m \u001b[0;34m=\u001b[0m \u001b[0mcallback_func\u001b[0m\u001b[0;34m(\u001b[0m\u001b[0mpathnames\u001b[0m\u001b[0;34m[\u001b[0m\u001b[0;36m0\u001b[0m\u001b[0;34m]\u001b[0m\u001b[0;34m,\u001b[0m \u001b[0;34m**\u001b[0m\u001b[0mkwargs\u001b[0m\u001b[0;34m)\u001b[0m\u001b[0;34m\u001b[0m\u001b[0;34m\u001b[0m\u001b[0m\n",
      "\u001b[0;31mFileNotFoundError\u001b[0m: [Errno 2] No such file or directory: '2024-01-20-mww66-western-brazil.miniseed'"
     ]
    }
   ],
   "source": [
    "st = read('2024-01-20-mww66-western-brazil.miniseed')\n",
    "print(st)"
   ]
  },
  {
   "cell_type": "markdown",
   "metadata": {
    "id": "Wsg2EID3CSlv"
   },
   "source": [
    "**st** is a stream object, which contains the data and associated metadata. The data are collections of trace objects."
   ]
  },
  {
   "cell_type": "code",
   "execution_count": null,
   "metadata": {
    "colab": {
     "base_uri": "https://localhost:8080/",
     "height": 211
    },
    "id": "tweoVebvSq2f",
    "outputId": "1cdfdb50-e704-4777-9e8f-ced9e6582ca6",
    "tags": []
   },
   "outputs": [
    {
     "ename": "NameError",
     "evalue": "name 'st' is not defined",
     "output_type": "error",
     "traceback": [
      "\u001b[0;31m---------------------------------------------------------------------------\u001b[0m",
      "\u001b[0;31mNameError\u001b[0m                                 Traceback (most recent call last)",
      "\u001b[0;32m<ipython-input-3-e9a327a2ff15>\u001b[0m in \u001b[0;36m<cell line: 2>\u001b[0;34m()\u001b[0m\n\u001b[1;32m      1\u001b[0m \u001b[0;31m# Read a trace from the stream object.\u001b[0m\u001b[0;34m\u001b[0m\u001b[0;34m\u001b[0m\u001b[0m\n\u001b[0;32m----> 2\u001b[0;31m \u001b[0mtr\u001b[0m \u001b[0;34m=\u001b[0m \u001b[0mst\u001b[0m\u001b[0;34m[\u001b[0m\u001b[0;36m2\u001b[0m\u001b[0;34m]\u001b[0m\u001b[0;34m\u001b[0m\u001b[0;34m\u001b[0m\u001b[0m\n\u001b[0m\u001b[1;32m      3\u001b[0m \u001b[0mprint\u001b[0m\u001b[0;34m(\u001b[0m\u001b[0mtr\u001b[0m\u001b[0;34m)\u001b[0m\u001b[0;34m\u001b[0m\u001b[0;34m\u001b[0m\u001b[0m\n\u001b[1;32m      4\u001b[0m \u001b[0;31m# Print the trace data content; a numpy array.\u001b[0m\u001b[0;34m\u001b[0m\u001b[0;34m\u001b[0m\u001b[0m\n\u001b[1;32m      5\u001b[0m \u001b[0mprint\u001b[0m\u001b[0;34m(\u001b[0m\u001b[0mtr\u001b[0m\u001b[0;34m.\u001b[0m\u001b[0mdata\u001b[0m\u001b[0;34m)\u001b[0m\u001b[0;34m\u001b[0m\u001b[0;34m\u001b[0m\u001b[0m\n",
      "\u001b[0;31mNameError\u001b[0m: name 'st' is not defined"
     ]
    }
   ],
   "source": [
    "# Read a trace from the stream object.\n",
    "tr = st[2]\n",
    "print(tr)\n",
    "# Print the trace data content; a numpy array.\n",
    "print(tr.data)\n",
    "# Print the trace metadata\n",
    "print(tr.stats)"
   ]
  },
  {
   "cell_type": "markdown",
   "metadata": {
    "id": "7I_GEr6lZ3f1"
   },
   "source": [
    "Any of the metadata content can be assessed through, e.g., **tr.stats.npts**.\n",
    "\n",
    "Plot the trace."
   ]
  },
  {
   "cell_type": "code",
   "execution_count": null,
   "metadata": {
    "colab": {
     "base_uri": "https://localhost:8080/",
     "height": 141
    },
    "id": "B0K9Q189biKD",
    "outputId": "9984525d-bcf9-4013-a0e9-9af9b4fff803"
   },
   "outputs": [
    {
     "ename": "NameError",
     "evalue": "name 'st' is not defined",
     "output_type": "error",
     "traceback": [
      "\u001b[0;31m---------------------------------------------------------------------------\u001b[0m",
      "\u001b[0;31mNameError\u001b[0m                                 Traceback (most recent call last)",
      "\u001b[0;32m<ipython-input-4-e65c3d027cfe>\u001b[0m in \u001b[0;36m<cell line: 1>\u001b[0;34m()\u001b[0m\n\u001b[0;32m----> 1\u001b[0;31m \u001b[0mst\u001b[0m\u001b[0;34m[\u001b[0m\u001b[0;36m0\u001b[0m\u001b[0;34m:\u001b[0m\u001b[0;36m3\u001b[0m\u001b[0;34m]\u001b[0m\u001b[0;34m.\u001b[0m\u001b[0mplot\u001b[0m\u001b[0;34m(\u001b[0m\u001b[0;34m)\u001b[0m\u001b[0;34m;\u001b[0m\u001b[0;34m\u001b[0m\u001b[0;34m\u001b[0m\u001b[0m\n\u001b[0m",
      "\u001b[0;31mNameError\u001b[0m: name 'st' is not defined"
     ]
    }
   ],
   "source": [
    "st[0:3].plot();"
   ]
  },
  {
   "cell_type": "code",
   "execution_count": null,
   "metadata": {
    "id": "8YfTYNe4uiNl"
   },
   "outputs": [],
   "source": [
    "# Import matplotlib and alias it as 'plt'\n",
    "from matplotlib import pyplot as plt\n",
    "%matplotlib notebook\n",
    "\n",
    "# Construct a figure for BHZ trace\n",
    "fig, ax = plt.subplots()\n",
    "_ = st[2].spectrogram(log=True, dbscale=True, axes=ax, show=True, cmap = \"jet\")\n",
    "\n",
    "plt.show()"
   ]
  },
  {
   "cell_type": "markdown",
   "metadata": {
    "id": "PrwojG8pr-52"
   },
   "source": [
    "## First steps in data processing\n",
    "\n",
    "### 1) To construct a figure to plot we need to import **matplotlib**.\n",
    "\n",
    "### 2) Spectrogram\n",
    "The spectrogram shows the waveform frequency content [spectrogram](https://docs.obspy.org/tutorial/code_snippets/plotting_spectrograms.html).\n",
    "\n",
    "The spectrogram shows the power in each frequency band (y-axis) for every few samples in time (x-axis). Warmer colours indicate more power.\n",
    "\n",
    "In general terms earthquakes emit a broad range of frequencies, but as higher frequencies attenuate faster $f > 20$Hz attenuate a great deal for earthquakes recorded beyond a few km away."
   ]
  },
  {
   "cell_type": "markdown",
   "metadata": {
    "id": "GrMCXAnaw11x"
   },
   "source": [
    "## 3) Filtering\n",
    "**ObsPy** has several [filters](https://docs.obspy.org/packages/autogen/obspy.core.trace.Trace.filter.html).:\n",
    "- \"bandpass\" filters *retain* a frequency range $\\Delta f=\\left[f_{1},f_{2}\\right]=f_{1}\\leq\\Delta f\\leq f_{2}$;\n",
    "- \"lowpass\" filters *retain* the frequency range $\\Delta f\\leq f_{cutoff}$;\n",
    "- \"highpass\" filters *retain* the frequency range $\\Delta f\\geq f_{cutoff}$;\n",
    "- \"notch\" filters *remove* the frequency range $f_{1}\\leq\\Delta f\\leq f_{2}$, therefore does the *opposite* of bandpass.\n",
    "\n"
   ]
  },
  {
   "cell_type": "code",
   "execution_count": null,
   "metadata": {
    "id": "wnG7Aqrb0cHh"
   },
   "outputs": [],
   "source": [
    "# Import obspy Stream\n",
    "from obspy import Stream\n",
    "\n",
    "# BHZ trace. Check.\n",
    "# Read a trace from the stream object.\n",
    "tr = st[2]\n",
    "print(tr.stats.channel)\n",
    "tr.plot()\n",
    "\n",
    "# corners=filter order; zerophase=True, results in a zero phase shift.\n",
    "#tr.filter(\"highpass\", freq=6.)\n",
    "tr.filter(\"bandpass\", freqmin=6., freqmax=11.)\n",
    "\n",
    "# Plot filtered trace\n",
    "tr.plot(color = 'blue');\n",
    "\n",
    "# Plot spectograms\n",
    "fig, ax = plt.subplots()\n",
    "_ = tr.spectrogram(log=True, dbscale=True, axes=ax, show=True, cmap = \"jet\")"
   ]
  },
  {
   "cell_type": "code",
   "execution_count": null,
   "metadata": {
    "id": "CxDmVh4mu6bR"
   },
   "outputs": [],
   "source": [
    "# Import ObsPy UTCDateTime class\n",
    "from obspy import UTCDateTime\n",
    "\n",
    "# Specify start and end times\n",
    "starttime = UTCDateTime(\"2024-01-20T21:37:19.019539Z\") - 60\n",
    "endtime = UTCDateTime(\"2024-01-20T21:58:18.994539Z\")\n",
    "print(starttime, endtime)"
   ]
  },
  {
   "cell_type": "markdown",
   "metadata": {
    "id": "TBdSDLQfv9Gj"
   },
   "source": [
    "## 4) Removing the instrument response\n",
    "\n",
    "The trace shown in blue above does not represent the actual ground motion at station **HKT**, but it is in digital *counts*, to be read by a computer. Those counts were digitized from the *analog* voltage signal that is necessary to keep the mass inside the instrument stable when the ground is moving; an *electromagnetic* negative feedback device[IRIS](https://www.iris.edu).\n",
    "\n",
    "To convert *counts* to ground velocity we need to remove the **digitizer and the response of the seismometer** itself; a function of frequency. We will use **Obspy** for that, but we will need the *instrument response*, which is not in the data file [2024-01-20-mww66-western-brazil.miniseed](https://github.com/jandyr/ProSeisSN/tree/main/Unit01/Expositive).\n",
    "\n",
    "### 4.1. UTCDateTime objects\n",
    "\n",
    "**Obspy** manages the downloading and handling data using [UTCDateTime objects](https://docs.obspy.org/tutorial/code_snippets/utc_date_time.html). It is a Python string\n",
    "\n",
    "**YYYY-MM-DDTHH:MM:SS**,\n",
    "\n",
    "with the origin time of an earthquake, or the start of the time period to download the data.\n",
    "\n",
    "We know the metadata from the event occured in Acre in 2024, downloaded using [IRIS Wilber](http://www.iris.edu/wilber3). We have downloaded the data starting 1min before the **P** arrival time.\n",
    "\n",
    "\n",
    "\n",
    "\n",
    "\n"
   ]
  },
  {
   "cell_type": "markdown",
   "metadata": {
    "id": "GIIHUbEOP_y1"
   },
   "source": [
    "###4.2. Specify station\n",
    "\n",
    "We need to provide: network, station, location, and channels:\n",
    "\n",
    "__Network code__: Identifies the [network](http://ds.iris.edu/mda/) assigned by the FDSN.\n",
    "\n",
    "__Station code__: The station within a network.\n",
    "\n",
    "__Location ID__: Stations can have more than one instrument, which is specified by the location ID.\n",
    "\n",
    "__Channel codes__: A three character channel code.\n",
    "\n",
    "Specify [IRIS](https://docs.obspy.org/packages/obspy.clients.fdsn.html) as a client of the [FDSN (International Federation of Digital Seismograph Networks)](https://www.fdsn.org/about/)."
   ]
  },
  {
   "cell_type": "code",
   "execution_count": null,
   "metadata": {
    "colab": {
     "base_uri": "https://localhost:8080/",
     "height": 387
    },
    "id": "jhGwPqPQURQr",
    "outputId": "1286f05c-580c-422f-9407-e18bd70b139e"
   },
   "outputs": [
    {
     "ename": "ModuleNotFoundError",
     "errorDetails": {
      "actions": [
       {
        "action": "open_url",
        "actionText": "Open Examples",
        "url": "/notebooks/snippets/importing_libraries.ipynb"
       }
      ]
     },
     "evalue": "No module named 'obspy'",
     "output_type": "error",
     "traceback": [
      "\u001b[0;31m---------------------------------------------------------------------------\u001b[0m",
      "\u001b[0;31mModuleNotFoundError\u001b[0m                       Traceback (most recent call last)",
      "\u001b[0;32m<ipython-input-5-ba461d0f9cdd>\u001b[0m in \u001b[0;36m<cell line: 2>\u001b[0;34m()\u001b[0m\n\u001b[1;32m      1\u001b[0m \u001b[0;31m# Import ObsPy Client class\u001b[0m\u001b[0;34m\u001b[0m\u001b[0;34m\u001b[0m\u001b[0m\n\u001b[0;32m----> 2\u001b[0;31m \u001b[0;32mfrom\u001b[0m \u001b[0mobspy\u001b[0m\u001b[0;34m.\u001b[0m\u001b[0mclients\u001b[0m\u001b[0;34m.\u001b[0m\u001b[0mfdsn\u001b[0m \u001b[0;32mimport\u001b[0m \u001b[0mClient\u001b[0m\u001b[0;34m\u001b[0m\u001b[0;34m\u001b[0m\u001b[0m\n\u001b[0m\u001b[1;32m      3\u001b[0m \u001b[0;34m\u001b[0m\u001b[0m\n\u001b[1;32m      4\u001b[0m \u001b[0;31m# Specify client\u001b[0m\u001b[0;34m\u001b[0m\u001b[0;34m\u001b[0m\u001b[0m\n\u001b[1;32m      5\u001b[0m \u001b[0mclient\u001b[0m \u001b[0;34m=\u001b[0m \u001b[0mClient\u001b[0m\u001b[0;34m(\u001b[0m\u001b[0;34m\"IRIS\"\u001b[0m\u001b[0;34m)\u001b[0m\u001b[0;34m\u001b[0m\u001b[0;34m\u001b[0m\u001b[0m\n",
      "\u001b[0;31mModuleNotFoundError\u001b[0m: No module named 'obspy'",
      "",
      "\u001b[0;31m---------------------------------------------------------------------------\u001b[0;32m\nNOTE: If your import is failing due to a missing package, you can\nmanually install dependencies using either !pip or !apt.\n\nTo view examples of installing some common dependencies, click the\n\"Open Examples\" button below.\n\u001b[0;31m---------------------------------------------------------------------------\u001b[0m\n"
     ]
    }
   ],
   "source": [
    "# Import ObsPy Client class\n",
    "from obspy.clients.fdsn import Client\n",
    "\n",
    "# Specify client\n",
    "client = Client(\"IRIS\")"
   ]
  },
  {
   "cell_type": "markdown",
   "metadata": {
    "id": "TvR6s-bPUoAs"
   },
   "source": [
    "_(i)  Provide: network, station, location, and channels_\n",
    "\n",
    "_(ii) Use **Obspy** function: **get_waveforms**_"
   ]
  },
  {
   "cell_type": "code",
   "execution_count": null,
   "metadata": {
    "id": "c_3e5TU-VylL"
   },
   "outputs": [],
   "source": [
    "# Use wildcards to select all three HH channels\n",
    "net = \"IU\"\n",
    "sta = \"HKT\"\n",
    "loc = \"00\"\n",
    "chan = \"HH*\"\n",
    "\n",
    "# Get waveforms with instrument response into a stream\n",
    "st = client.get_waveforms(net, sta, loc, chan, starttime, endtime, attach_response = True)\n",
    "print(st)\n",
    "st.plot();"
   ]
  },
  {
   "cell_type": "markdown",
   "metadata": {
    "id": "bW9Fm0cQisvn"
   },
   "source": [
    "###4.3. Remove the instrument response\n",
    "\n",
    "_(i)  Make a *deep* copy of the original stream as the function **remove_response** acts on the data, overwriting the original stream._\n",
    "\n",
    "_(ii) Express the ground motion in velocity, **output = 'VEL'**, in units of velocity (m/s)._\n",
    "\n",
    "The process involves multiplication with the inverse of the instrument response, which usually attain small numerical values at both frequency ends. This results in the signal+noise being multiplied by relatively large numbers, making noise contribution large. This can be alleviated by tapering the signal or imposing a *cap* to the inverse of the instrument response.\n",
    "\n",
    "_Caution:_ If you run the code below more than once the function **remove_response** will corrupt the data because the original stream is lost. Use the copy of the original stream if needed."
   ]
  },
  {
   "cell_type": "code",
   "execution_count": null,
   "metadata": {
    "id": "hwq3rcLnmKyM"
   },
   "outputs": [],
   "source": [
    "# Deep copy of the original stream\n",
    "st_0 = st.copy()\n",
    "\n",
    "# Remove the instrument response of all components. Other options: output = 'DISP', 'ACC'\n",
    "st.remove_response(output = 'VEL')\n",
    "\n",
    "# Plot only Z component (the last trace in stream).\n",
    "# Make a deep copy of it as remove_response acts on the data, overwriting it\n",
    "dummy = st_0[-1].copy()\n",
    "dummy.remove_response(output = 'VEL', plot = True)\n",
    "\n",
    "st_0[-1].plot()\n",
    "dummy.plot(color = 'blue');"
   ]
  },
  {
   "cell_type": "markdown",
   "metadata": {
    "id": "y11lEeZKSke4"
   },
   "source": [
    "###4.4. Save the corrected data\n",
    "\n",
    "Save the data with the instrument response removed for further work, in the same directory as this Jupyter notebook.\n",
    "\n",
    "_Save the data in miniSEED_ specifying file path, name, extension, and data format:\n",
    "\n",
    "**stream.write('/path/filename.mseed', format='MSEED')**."
   ]
  },
  {
   "cell_type": "code",
   "execution_count": null,
   "metadata": {
    "id": "2wkDs-O0VRyq"
   },
   "outputs": [],
   "source": [
    "# Save it with event code in the name (wb=western-brazil, ir=nstrument response removed)\n",
    "filename = 'wb11793085' + '_ir' + '.mseed'\n",
    "st.write(filename, format='MSEED')\n",
    "\n",
    "# Check Z component\n",
    "dummy = read(filename)\n",
    "print(dummy[-1].stats)"
   ]
  },
  {
   "cell_type": "code",
   "execution_count": null,
   "metadata": {
    "id": "LjCrKo8zl9eA"
   },
   "outputs": [],
   "source": []
  }
 ],
 "metadata": {
  "colab": {
   "provenance": []
  },
  "kernelspec": {
   "display_name": "Python 3 (ipykernel)",
   "language": "python",
   "name": "python3"
  },
  "language_info": {
   "codemirror_mode": {
    "name": "ipython",
    "version": 3
   },
   "file_extension": ".py",
   "mimetype": "text/x-python",
   "name": "python",
   "nbconvert_exporter": "python",
   "pygments_lexer": "ipython3",
   "version": "3.9.7"
  }
 },
 "nbformat": 4,
 "nbformat_minor": 1
}
