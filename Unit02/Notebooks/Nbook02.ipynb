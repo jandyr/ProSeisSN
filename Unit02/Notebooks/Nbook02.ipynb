{
 "cells": [
  {
   "cell_type": "markdown",
   "metadata": {
    "id": "1zTrGT3dQrSW"
   },
   "source": [
    "# Processing passive seismic data\n",
    "\n",
    "This notebook deals with reading, writing and basic processing passive seismic data using [ObsPy](https://docs.obspy.org/).\n",
    "\n",
    "## It is intended to be run in Colab.\n",
    "\n",
    "\n",
    "#### Dependencies: Obspy, Numpy, Matplotlib\n",
    "\n",
    "#### Reset the Jupyter/IPython notebook in order to run it again, press:\n",
    "***Kernel*** -> ***Restart & Clear Output***"
   ]
  },
  {
   "cell_type": "markdown",
   "metadata": {
    "id": "hwxkSEiXEKVn"
   },
   "source": [
    "---\n",
    "## Install Conda and create an *environment*, and install the required *packages* for the work.\n",
    "\n",
    "* The `condacolab` commands need to be run as the first Code cell!\n",
    "* After `condacolab.install()`, the Python kernel will be restarted.\n",
    "* Do not use the `Run all` option. Run the `condacolab` cell _individually_ and wait for the kernel to restart.\n",
    "* You can only use the `base` environment. Do not try to create new ones; instead update `base` with either:\n",
    "  * `conda install <packages>`\n",
    "  * `conda env update -n base -f environment.yml`\n",
    "\n",
    "## ***Attn:*** Every time you quit or reset the runtime, you wil need to install Conda again."
   ]
  },
  {
   "cell_type": "code",
   "execution_count": null,
   "metadata": {
    "colab": {
     "base_uri": "https://localhost:8080/"
    },
    "id": "4bt_TamvFMz_",
    "outputId": "cd159202-b7cc-4f6b-fd28-6c9c4390cdd1"
   },
   "outputs": [],
   "source": [
    "# Import and install condacolab python library.\n",
    "!pip install -q condacolab\n",
    "import condacolab\n",
    "condacolab.install()"
   ]
  },
  {
   "cell_type": "code",
   "execution_count": null,
   "metadata": {
    "colab": {
     "base_uri": "https://localhost:8080/"
    },
    "id": "V2joec4SFhWz",
    "outputId": "52a44389-ed16-4053-e9c1-ea4dfba1d2b0"
   },
   "outputs": [],
   "source": [
    "#  kernel restart HERE!\n",
    "import condacolab\n",
    "condacolab.check()"
   ]
  },
  {
   "cell_type": "code",
   "execution_count": null,
   "metadata": {
    "colab": {
     "base_uri": "https://localhost:8080/"
    },
    "id": "NZngyofTmfBC",
    "outputId": "dd643033-3725-4609-9846-3015b27e4bcc"
   },
   "outputs": [],
   "source": [
    "# Verify the Conda installation. Update.\n",
    "!conda --version\n",
    "!conda update -n base -c conda-forge conda --yes\n",
    "!conda --version\n",
    "\n",
    "# Create environment.yml    printf \"name: ProSeisSN \\n channels:\n",
    "#!printf \"\\n channels: \\n   - defaults \\n   - conda-forge \\n dependencies: \\n   - python>=3.12.5 \\n   - cartopy \\n   - pip \\n   - pip: \\n     - numpy>=1.15.0 \\n     - scipy>=1.4.0 \\n     - matplotlib \\n     - seaborn \\n     - obspy \\n     - jupyterlab \\n     - pandas \\n     - pyqt5 \\n     - pyrocko \\n     - utm \\n     - segyio \\n\" >> environment.yml\n",
    "#!cat environment.yml\n",
    "\n",
    "# Update the base environment\n",
    "!conda install pandas numpy matplotlib numpy>=1.15.0 scipy>=1.4.0 obspy cartopy utm segyio\n",
    "#!conda env update -n base -f environment.yml\n",
    "#Locate the Conda package. List environments. Verify the Conda installation.\n",
    "!conda info\n",
    "!which conda\n",
    "!conda env list\n",
    "!conda list #| grep obspy\n",
    "\n"
   ]
  },
  {
   "cell_type": "markdown",
   "metadata": {
    "id": "NDxK3mML_sIh"
   },
   "source": [
    "---\n",
    "## Accessing a local data\n",
    "\n",
    "This lecture serves as a basic introduction to using Obspy. Useful links are the official [Obspy Tutorial](https://docs.obspy.org/tutorial/index.html), and the [Seismo-Live Juypter Notebooks for Seismology](https://krischer.github.io/seismo_live_build/tree/index.html).\n",
    "\n",
    "We work with data form an event occured in Acre in 2024, downloaded using [IRIS Wilber](http://www.iris.edu/wilber3).\n",
    "\n",
    "|EventID | Time | Lat | Long | Depth(km) | Mww | Location |\n",
    "| :- | :-: | :- | :- | :-: | :-: | :- |\n",
    "|11793085|2024-01-20T21:31|-7.2879|-71.464|607|6.6|WESTERN BRAZIL|\n",
    "\n",
    "We will use a data file in miniSEED format: [2024-01-20-mww66-western-brazil.miniseed](https://github.com/jandyr/ProSeisSN/tree/main/Unit01/Expositive),\n",
    "\n",
    "Choose stations with epicentral distances $\\left[20^{\\circ},\\,70^{\\circ}\\right]$; waves travel in the laterally homogeneous Mantle, with P and S arrivals.\n",
    "\n",
    "Of the 149 stations operational during the event, select station IU HKT, distant $44^{\\circ}$ from the event.\n",
    "\n",
    "|Station|Seismometer| Lat | Long | Depth(m) | Channels |\n",
    "| :- | :- | :- | :- | :-: | :-: |\n",
    "|HKT: Hockley1 Texas|Streckeisen STS-6A VBB |29.96|-95.84|93|BH1, BH2, BHZ|\n",
    "\n",
    "**Phase Arrivals**\n",
    "\n",
    "|Phase|$\\Delta t$| TIme |\n",
    "| :- | :-: | :- |\n",
    "|P|+7m 14s|21:38:19|\n",
    "|PP|+9m 9s |21:40:14|\n",
    "|S|+13m 4s|21:44:09|\n",
    "|SS|+16m 38s|21:47:43|"
   ]
  },
  {
   "cell_type": "code",
   "execution_count": null,
   "metadata": {
    "id": "P1xlciOwGAcN"
   },
   "outputs": [],
   "source": [
    "from obspy import read"
   ]
  },
  {
   "cell_type": "markdown",
   "metadata": {
    "id": "7Nbg5ntHGIs9"
   },
   "source": [
    "Use the read function with the path to the data file."
   ]
  },
  {
   "cell_type": "code",
   "execution_count": null,
   "metadata": {
    "colab": {
     "base_uri": "https://localhost:8080/",
     "height": 374
    },
    "id": "dFXFE-hXGqBF",
    "outputId": "a7240905-18f7-43bc-c8ea-936d3ca35122"
   },
   "outputs": [],
   "source": [
    "st = read('2024-01-20-mww66-western-brazil.miniseed')\n",
    "print(st)"
   ]
  },
  {
   "cell_type": "markdown",
   "metadata": {
    "id": "Wsg2EID3CSlv"
   },
   "source": [
    "**st** is a stream object, which contains the data and associated metadata. The data are collections of trace objects."
   ]
  },
  {
   "cell_type": "code",
   "execution_count": null,
   "metadata": {
    "colab": {
     "base_uri": "https://localhost:8080/",
     "height": 211
    },
    "id": "tweoVebvSq2f",
    "outputId": "1cdfdb50-e704-4777-9e8f-ced9e6582ca6",
    "tags": []
   },
   "outputs": [],
   "source": [
    "# Read a trace from the stream object.\n",
    "tr = st[2]\n",
    "print(tr)\n",
    "# Print the trace data content; a numpy array.\n",
    "print(tr.data)\n",
    "# Print the trace metadata\n",
    "print(tr.stats)"
   ]
  },
  {
   "cell_type": "markdown",
   "metadata": {
    "id": "7I_GEr6lZ3f1"
   },
   "source": [
    "Any of the metadata content can be assessed through, e.g., **tr.stats.npts**.\n",
    "\n",
    "Plot the trace."
   ]
  },
  {
   "cell_type": "code",
   "execution_count": null,
   "metadata": {
    "colab": {
     "base_uri": "https://localhost:8080/",
     "height": 141
    },
    "id": "B0K9Q189biKD",
    "outputId": "9984525d-bcf9-4013-a0e9-9af9b4fff803"
   },
   "outputs": [],
   "source": [
    "st[0:3].plot();"
   ]
  },
  {
   "cell_type": "code",
   "execution_count": null,
   "metadata": {
    "id": "8YfTYNe4uiNl"
   },
   "outputs": [],
   "source": [
    "# Import matplotlib and alias it as 'plt'\n",
    "from matplotlib import pyplot as plt\n",
    "%matplotlib notebook\n",
    "\n",
    "# Construct a figure for BHZ trace\n",
    "fig, ax = plt.subplots()\n",
    "_ = st[2].spectrogram(log=True, dbscale=True, axes=ax, show=True, cmap = \"jet\")\n",
    "\n",
    "plt.show()"
   ]
  },
  {
   "cell_type": "markdown",
   "metadata": {
    "id": "PrwojG8pr-52"
   },
   "source": [
    "## First steps in data processing\n",
    "\n",
    "### 1) To construct a figure to plot we need to import **matplotlib**.\n",
    "\n",
    "### 2) Spectrogram\n",
    "The spectrogram shows the waveform frequency content [spectrogram](https://docs.obspy.org/tutorial/code_snippets/plotting_spectrograms.html).\n",
    "\n",
    "The spectrogram shows the power in each frequency band (y-axis) for every few samples in time (x-axis). Warmer colours indicate more power.\n",
    "\n",
    "In general terms earthquakes emit a broad range of frequencies, but as higher frequencies attenuate faster $f > 20$Hz attenuate a great deal for earthquakes recorded beyond a few km away."
   ]
  },
  {
   "cell_type": "markdown",
   "metadata": {
    "id": "GrMCXAnaw11x"
   },
   "source": [
    "## 3) Filtering\n",
    "**ObsPy** has several [filters](https://docs.obspy.org/packages/autogen/obspy.core.trace.Trace.filter.html).:\n",
    "- \"bandpass\" filters *retain* a frequency range $\\Delta f=\\left[f_{1},f_{2}\\right]=f_{1}\\leq\\Delta f\\leq f_{2}$;\n",
    "- \"lowpass\" filters *retain* the frequency range $\\Delta f\\leq f_{cutoff}$;\n",
    "- \"highpass\" filters *retain* the frequency range $\\Delta f\\geq f_{cutoff}$;\n",
    "- \"notch\" filters *remove* the frequency range $f_{1}\\leq\\Delta f\\leq f_{2}$, therefore does the *opposite* of bandpass.\n",
    "\n"
   ]
  },
  {
   "cell_type": "code",
   "execution_count": null,
   "metadata": {
    "id": "wnG7Aqrb0cHh"
   },
   "outputs": [],
   "source": [
    "# Import obspy Stream\n",
    "from obspy import Stream\n",
    "\n",
    "# BHZ trace. Check.\n",
    "# Read a trace from the stream object.\n",
    "tr = st[2]\n",
    "print(tr.stats.channel)\n",
    "tr.plot()\n",
    "\n",
    "# corners=filter order; zerophase=True, results in a zero phase shift.\n",
    "#tr.filter(\"highpass\", freq=6.)\n",
    "tr.filter(\"bandpass\", freqmin=6., freqmax=11.)\n",
    "\n",
    "# Plot filtered trace\n",
    "tr.plot(color = 'blue');\n",
    "\n",
    "# Plot spectograms\n",
    "fig, ax = plt.subplots()\n",
    "_ = tr.spectrogram(log=True, dbscale=True, axes=ax, show=True, cmap = \"jet\")"
   ]
  },
  {
   "cell_type": "code",
   "execution_count": null,
   "metadata": {
    "id": "CxDmVh4mu6bR"
   },
   "outputs": [],
   "source": [
    "# Import ObsPy UTCDateTime class\n",
    "from obspy import UTCDateTime\n",
    "\n",
    "# Specify start and end times\n",
    "starttime = UTCDateTime(\"2024-01-20T21:37:19.019539Z\") - 60\n",
    "endtime = UTCDateTime(\"2024-01-20T21:58:18.994539Z\")\n",
    "print(starttime, endtime)"
   ]
  },
  {
   "cell_type": "markdown",
   "metadata": {
    "id": "TBdSDLQfv9Gj"
   },
   "source": [
    "## 4) Removing the instrument response\n",
    "\n",
    "The trace shown in blue above does not represent the actual ground motion at station **HKT**, but it is in digital *counts*, to be read by a computer. Those counts were digitized from the *analog* voltage signal that is necessary to keep the mass inside the instrument stable when the ground is moving; an *electromagnetic* negative feedback device[IRIS](https://www.iris.edu).\n",
    "\n",
    "To convert *counts* to ground velocity we need to remove the **digitizer and the response of the seismometer** itself; a function of frequency. We will use **Obspy** for that, but we will need the *instrument response*, which is not in the data file [2024-01-20-mww66-western-brazil.miniseed](https://github.com/jandyr/ProSeisSN/tree/main/Unit01/Expositive).\n",
    "\n",
    "### 4.1. UTCDateTime objects\n",
    "\n",
    "**Obspy** manages the downloading and handling data using [UTCDateTime objects](https://docs.obspy.org/tutorial/code_snippets/utc_date_time.html). It is a Python string\n",
    "\n",
    "**YYYY-MM-DDTHH:MM:SS**,\n",
    "\n",
    "with the origin time of an earthquake, or the start of the time period to download the data.\n",
    "\n",
    "We know the metadata from the event occured in Acre in 2024, downloaded using [IRIS Wilber](http://www.iris.edu/wilber3). We have downloaded the data starting 1min before the **P** arrival time.\n",
    "\n",
    "\n",
    "\n",
    "\n",
    "\n"
   ]
  },
  {
   "cell_type": "markdown",
   "metadata": {
    "id": "GIIHUbEOP_y1"
   },
   "source": [
    "###4.2. Specify station\n",
    "\n",
    "We need to provide: network, station, location, and channels:\n",
    "\n",
    "__Network code__: Identifies the [network](http://ds.iris.edu/mda/) assigned by the FDSN.\n",
    "\n",
    "__Station code__: The station within a network.\n",
    "\n",
    "__Location ID__: Stations can have more than one instrument, which is specified by the location ID.\n",
    "\n",
    "__Channel codes__: A three character channel code.\n",
    "\n",
    "Specify [IRIS](https://docs.obspy.org/packages/obspy.clients.fdsn.html) as a client of the [FDSN (International Federation of Digital Seismograph Networks)](https://www.fdsn.org/about/)."
   ]
  },
  {
   "cell_type": "code",
   "execution_count": null,
   "metadata": {
    "colab": {
     "base_uri": "https://localhost:8080/",
     "height": 387
    },
    "id": "jhGwPqPQURQr",
    "outputId": "1286f05c-580c-422f-9407-e18bd70b139e"
   },
   "outputs": [],
   "source": [
    "# Import ObsPy Client class\n",
    "from obspy.clients.fdsn import Client\n",
    "\n",
    "# Specify client\n",
    "client = Client(\"IRIS\")"
   ]
  },
  {
   "cell_type": "markdown",
   "metadata": {
    "id": "TvR6s-bPUoAs"
   },
   "source": [
    "_(i)  Provide: network, station, location, and channels_\n",
    "\n",
    "_(ii) Use **Obspy** function: **get_waveforms**_"
   ]
  },
  {
   "cell_type": "code",
   "execution_count": null,
   "metadata": {
    "id": "c_3e5TU-VylL"
   },
   "outputs": [],
   "source": [
    "# Use wildcards to select all three HH channels\n",
    "net = \"IU\"\n",
    "sta = \"HKT\"\n",
    "loc = \"00\"\n",
    "chan = \"HH*\"\n",
    "\n",
    "# Get waveforms with instrument response into a stream\n",
    "st = client.get_waveforms(net, sta, loc, chan, starttime, endtime, attach_response = True)\n",
    "print(st)\n",
    "st.plot();"
   ]
  },
  {
   "cell_type": "markdown",
   "metadata": {
    "id": "bW9Fm0cQisvn"
   },
   "source": [
    "###4.3. Remove the instrument response\n",
    "\n",
    "_(i)  Make a *deep* copy of the original stream as the function **remove_response** acts on the data, overwriting the original stream._\n",
    "\n",
    "_(ii) Express the ground motion in velocity, **output = 'VEL'**, in units of velocity (m/s)._\n",
    "\n",
    "The process involves multiplication with the inverse of the instrument response, which usually attain small numerical values at both frequency ends. This results in the signal+noise being multiplied by relatively large numbers, making noise contribution large. This can be alleviated by tapering the signal or imposing a *cap* to the inverse of the instrument response.\n",
    "\n",
    "_Caution:_ If you run the code below more than once the function **remove_response** will corrupt the data because the original stream is lost. Use the copy of the original stream if needed."
   ]
  },
  {
   "cell_type": "code",
   "execution_count": null,
   "metadata": {
    "id": "hwq3rcLnmKyM"
   },
   "outputs": [],
   "source": [
    "# Deep copy of the original stream\n",
    "st_0 = st.copy()\n",
    "\n",
    "# Remove the instrument response of all components. Other options: output = 'DISP', 'ACC'\n",
    "st.remove_response(output = 'VEL')\n",
    "\n",
    "# Plot only Z component (the last trace in stream).\n",
    "# Make a deep copy of it as remove_response acts on the data, overwriting it\n",
    "dummy = st_0[-1].copy()\n",
    "dummy.remove_response(output = 'VEL', plot = True)\n",
    "\n",
    "st_0[-1].plot()\n",
    "dummy.plot(color = 'blue');"
   ]
  },
  {
   "cell_type": "markdown",
   "metadata": {
    "id": "y11lEeZKSke4"
   },
   "source": [
    "###4.4. Save the corrected data\n",
    "\n",
    "Save the data with the instrument response removed for further work, in the same directory as this Jupyter notebook.\n",
    "\n",
    "_Save the data in miniSEED_ specifying file path, name, extension, and data format:\n",
    "\n",
    "**stream.write('/path/filename.mseed', format='MSEED')**."
   ]
  },
  {
   "cell_type": "code",
   "execution_count": null,
   "metadata": {
    "id": "2wkDs-O0VRyq"
   },
   "outputs": [],
   "source": [
    "# Save it with event code in the name (wb=western-brazil, ir=nstrument response removed)\n",
    "filename = 'wb11793085' + '_ir' + '.mseed'\n",
    "st.write(filename, format='MSEED')\n",
    "\n",
    "# Check Z component\n",
    "dummy = read(filename)\n",
    "print(dummy[-1].stats)"
   ]
  },
  {
   "cell_type": "code",
   "execution_count": null,
   "metadata": {
    "id": "LjCrKo8zl9eA"
   },
   "outputs": [],
   "source": []
  }
 ],
 "metadata": {
  "colab": {
   "provenance": []
  },
  "kernelspec": {
   "display_name": "Python 3 (ipykernel)",
   "language": "python",
   "name": "python3"
  },
  "language_info": {
   "codemirror_mode": {
    "name": "ipython",
    "version": 3
   },
   "file_extension": ".py",
   "mimetype": "text/x-python",
   "name": "python",
   "nbconvert_exporter": "python",
   "pygments_lexer": "ipython3",
   "version": "3.9.7"
  }
 },
 "nbformat": 4,
 "nbformat_minor": 1
}
