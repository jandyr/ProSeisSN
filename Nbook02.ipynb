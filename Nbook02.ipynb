{
 "cells": [
  {
   "cell_type": "markdown",
   "metadata": {
    "id": "1zTrGT3dQrSW"
   },
   "source": [
    "# Processing passive seismic data\n",
    "\n",
    "This notebook deals with reading, writing and basic processing passive seismic data using [ObsPy](https://docs.obspy.org/).\n",
    "\n",
    "## It is intended to be run in Colab.\n",
    "\n",
    "\n",
    "#### Dependencies: Obspy, Numpy, Matplotlib\n",
    "\n",
    "#### Reset the Jupyter/IPython notebook in order to run it again, press:\n",
    "***Kernel*** -> ***Restart & Clear Output***"
   ]
  },
  {
   "cell_type": "markdown",
   "metadata": {
    "id": "hwxkSEiXEKVn"
   },
   "source": [
    "---\n",
    "## Install Conda and create an *environment*, and install the required *packages* for the work.\n",
    "\n",
    "* The `condacolab` commands need to be run as the first Code cell!\n",
    "* After `condacolab.install()`, the Python kernel will be restarted.\n",
    "* Do not use the `Run all` option. Run the `condacolab` cell _individually_ and wait for the kernel to restart.\n",
    "* You can only use the `base` environment. Do not try to create new ones; instead update `base` with either:\n",
    "  * `conda install <packages>`\n",
    "  * `conda env update -n base -f environment.yml`\n",
    "\n",
    "## ***Attn:*** Every time you quit or reset the runtime, you wil need to install Conda again."
   ]
  },
  {
   "cell_type": "code",
   "execution_count": null,
   "metadata": {
    "colab": {
     "base_uri": "https://localhost:8080/"
    },
    "id": "4bt_TamvFMz_",
    "outputId": "cd159202-b7cc-4f6b-fd28-6c9c4390cdd1"
   },
   "outputs": [],
   "source": [
    "# Import and install condacolab python library.\n",
    "!pip install -q condacolab\n",
    "import condacolab\n",
    "condacolab.install()"
   ]
  },
  {
   "cell_type": "code",
   "execution_count": null,
   "metadata": {
    "colab": {
     "base_uri": "https://localhost:8080/"
    },
    "id": "V2joec4SFhWz",
    "outputId": "52a44389-ed16-4053-e9c1-ea4dfba1d2b0"
   },
   "outputs": [],
   "source": [
    "#  kernel restart HERE!\n",
    "import condacolab\n",
    "condacolab.check()"
   ]
  },
  {
   "cell_type": "code",
   "execution_count": null,
   "metadata": {
    "colab": {
     "base_uri": "https://localhost:8080/"
    },
    "id": "NZngyofTmfBC",
    "outputId": "dd643033-3725-4609-9846-3015b27e4bcc"
   },
   "outputs": [],
   "source": [
    "# Verify the Conda installation. Update.\n",
    "!conda --version\n",
    "#!conda update -n base -c defaults conda --yes\n",
    "!conda update -n base -c conda-forge conda --yes\n",
    "!conda --version\n",
    "\n",
    "# Create environment.yml\n",
    "#!printf \"\\n channels: \\n   - defaults \\n   - conda-forge \\n dependencies: \\n   - python>=3.12.5 \\n   - cartopy \\n   - pip \\n   - pip: \\n     - numpy>=1.15.0 \\n     - scipy>=1.4.0 \\n     - matplotlib \\n     - seaborn \\n     - obspy \\n     - jupyterlab \\n     - pandas \\n     - pyqt5 \\n     - pyrocko \\n     - utm \\n     - segyio \\n\" >> environment.yml\n",
    "#!cat environment.yml\n",
    "#!conda env update -n base -f environment.yml\n",
    "\n",
    "# Update the base environment\n",
    "!conda install pandas numpy matplotlib numpy>=1.15.0 scipy>=1.4.0 certifi cartopy obspy utm segyio\n",
    "\n",
    "#Locate the Conda package. List environments. Verify the Conda installation.\n",
    "!conda info\n",
    "!which conda\n",
    "!conda env list\n",
    "!conda list"
   ]
  },
  {
   "cell_type": "markdown",
   "metadata": {
    "id": "NDxK3mML_sIh"
   },
   "source": [
    "---\n",
    "## Accessing a local data\n",
    "\n",
    "This lecture serves as a basic introduction to using Obspy. Useful links are the official [Obspy Tutorial](https://docs.obspy.org/tutorial/index.html), and the [Seismo-Live Juypter Notebooks for Seismology](https://krischer.github.io/seismo_live_build/tree/index.html).\n",
    "\n",
    "We work with data form an event occured in Acre in 2024, downloaded using [IRIS Wilber](http://www.iris.edu/wilber3).\n",
    "\n",
    "|EventID | Time | Lat | Long | Depth(km) | Mww | Location |\n",
    "| :- | :-: | :- | :- | :-: | :-: | :- |\n",
    "|11793085|2024-01-20T21:31|-7.2879|-71.464|607|6.6|WESTERN BRAZIL|\n",
    "\n",
    "We will use a data file in miniSEED format: [2024-01-20-mww66-western-brazil.miniseed](https://github.com/jandyr/ProSeisSN/tree/main/Unit01/Expositive),\n",
    "\n",
    "Choose stations with epicentral distances $\\left[20^{\\circ},\\,70^{\\circ}\\right]$; waves travel in the laterally homogeneous Mantle, with P and S arrivals.\n",
    "\n",
    "Of the 149 stations operational during the event, select station IU HKT, distant $44^{\\circ}$ from the event.\n",
    "\n",
    "|Station|Seismometer| Lat | Long | Depth(m) | Channels |\n",
    "| :- | :- | :- | :- | :-: | :-: |\n",
    "|HKT: Hockley1 Texas|Streckeisen STS-6A VBB |29.96|-95.84|93|BH1, BH2, BHZ|\n",
    "\n",
    "**Phase Arrivals**\n",
    "\n",
    "|Phase|$\\Delta t$| TIme |\n",
    "| :- | :-: | :- |\n",
    "|P|+7m 14s|21:38:19|\n",
    "|PP|+9m 9s |21:40:14|\n",
    "|S|+13m 4s|21:44:09|\n",
    "|SS|+16m 38s|21:47:43|"
   ]
  },
  {
   "cell_type": "code",
   "execution_count": null,
   "metadata": {
    "id": "P1xlciOwGAcN"
   },
   "outputs": [],
   "source": [
    "from obspy import read"
   ]
  },
  {
   "cell_type": "markdown",
   "metadata": {
    "id": "7Nbg5ntHGIs9"
   },
   "source": [
    "Use the read function with the path to the data file.\n",
    "\n",
    "To upload files directly click on the data explorer icon (in red). Select the “upload” option.\n",
    "\n",
    "The data file will be in root.\n",
    "\n",
    "![colab.png](data:image/png;base64,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)"
   ]
  },
  {
   "cell_type": "code",
   "execution_count": null,
   "metadata": {
    "colab": {
     "base_uri": "https://localhost:8080/",
     "height": 374
    },
    "id": "dFXFE-hXGqBF",
    "outputId": "a7240905-18f7-43bc-c8ea-936d3ca35122"
   },
   "outputs": [],
   "source": [
    "st = read('/wb11793085.mseed')\n",
    "print(st)"
   ]
  },
  {
   "cell_type": "markdown",
   "metadata": {
    "id": "Wsg2EID3CSlv"
   },
   "source": [
    "**st** is a stream object, which contains the data and associated metadata. The data are collections of trace objects."
   ]
  },
  {
   "cell_type": "code",
   "execution_count": null,
   "metadata": {
    "colab": {
     "base_uri": "https://localhost:8080/",
     "height": 211
    },
    "id": "tweoVebvSq2f",
    "outputId": "1cdfdb50-e704-4777-9e8f-ced9e6582ca6",
    "tags": []
   },
   "outputs": [],
   "source": [
    "# Read a trace from the stream object.\n",
    "tr = st[2]\n",
    "print(tr)\n",
    "# Print the trace data content; a numpy array.\n",
    "print(tr.data)\n",
    "# Print the trace metadata\n",
    "print(tr.stats)"
   ]
  },
  {
   "cell_type": "markdown",
   "metadata": {
    "id": "7I_GEr6lZ3f1"
   },
   "source": [
    "Any of the metadata content can be assessed through, e.g., **tr.stats.npts**.\n",
    "\n",
    "Plot the trace."
   ]
  },
  {
   "cell_type": "code",
   "execution_count": null,
   "metadata": {
    "colab": {
     "base_uri": "https://localhost:8080/",
     "height": 141
    },
    "id": "B0K9Q189biKD",
    "outputId": "9984525d-bcf9-4013-a0e9-9af9b4fff803"
   },
   "outputs": [],
   "source": [
    "st[0:3].plot();"
   ]
  },
  {
   "cell_type": "code",
   "execution_count": null,
   "metadata": {
    "id": "8YfTYNe4uiNl"
   },
   "outputs": [],
   "source": [
    "# matplotlib magic command for Colab\n",
    "%matplotlib inline\n",
    "# matplotlib magic command for local Notebook\n",
    "#%matplotlib notebook\n",
    "\n",
    "# Import matplotlib and alias it as 'plt'\n",
    "from matplotlib import pyplot as plt\n",
    "%matplotlib notebook\n",
    "\n",
    "# Construct a figure for BHZ trace\n",
    "fig, ax = plt.subplots()\n",
    "_ = st[2].spectrogram(log=True, dbscale=True, axes=ax, show=True, cmap = \"jet\")\n",
    "\n",
    "plt.show()"
   ]
  },
  {
   "cell_type": "markdown",
   "metadata": {
    "id": "PrwojG8pr-52"
   },
   "source": [
    "## First steps in data processing\n",
    "\n",
    "### 1) To construct a figure to plot we need to import **matplotlib**.\n",
    "\n",
    "### 2) Spectrogram\n",
    "The spectrogram shows the waveform frequency content [spectrogram](https://docs.obspy.org/tutorial/code_snippets/plotting_spectrograms.html).\n",
    "\n",
    "The spectrogram shows the power in each frequency band (y-axis) for every few samples in time (x-axis). Warmer colours indicate more power.\n",
    "\n",
    "In general terms earthquakes emit a broad range of frequencies, but as higher frequencies attenuate faster $f > 20$Hz attenuate a great deal for earthquakes recorded beyond a few km away."
   ]
  },
  {
   "cell_type": "markdown",
   "metadata": {
    "id": "GrMCXAnaw11x"
   },
   "source": [
    "## 3) Filtering\n",
    "**ObsPy** has several [filters](https://docs.obspy.org/packages/autogen/obspy.core.trace.Trace.filter.html).:\n",
    "- \"bandpass\" filters *retain* a frequency range $\\Delta f=\\left[f_{1},f_{2}\\right]=f_{1}\\leq\\Delta f\\leq f_{2}$;\n",
    "- \"lowpass\" filters *retain* the frequency range $\\Delta f\\leq f_{cutoff}$;\n",
    "- \"highpass\" filters *retain* the frequency range $\\Delta f\\geq f_{cutoff}$;\n",
    "- \"notch\" filters *remove* the frequency range $f_{1}\\leq\\Delta f\\leq f_{2}$, therefore does the *opposite* of bandpass.\n",
    "\n"
   ]
  },
  {
   "cell_type": "code",
   "execution_count": null,
   "metadata": {
    "id": "wnG7Aqrb0cHh"
   },
   "outputs": [],
   "source": [
    "# Import obspy Stream\n",
    "from obspy import Stream\n",
    "\n",
    "# BHZ trace. Check.\n",
    "# Read a trace from the stream object.\n",
    "tr = st[2]\n",
    "print(tr.stats.channel)\n",
    "tr.plot()\n",
    "\n",
    "# corners=filter order; zerophase=True, results in a zero phase shift.\n",
    "#tr.filter(\"highpass\", freq=6.)\n",
    "tr.filter(\"bandpass\", freqmin=6., freqmax=11.)\n",
    "\n",
    "# Plot filtered trace\n",
    "tr.plot(color = 'blue');\n",
    "\n",
    "# Plot spectograms\n",
    "fig, ax = plt.subplots()\n",
    "_ = tr.spectrogram(log=True, dbscale=True, axes=ax, show=True, cmap = \"jet\")"
   ]
  },
  {
   "cell_type": "code",
   "execution_count": null,
   "metadata": {
    "id": "CxDmVh4mu6bR"
   },
   "outputs": [],
   "source": [
    "# Import ObsPy UTCDateTime class\n",
    "from obspy import UTCDateTime\n",
    "\n",
    "# Specify start and end times\n",
    "starttime = UTCDateTime(\"2024-01-20T21:37:19.019539Z\") - 60\n",
    "endtime = UTCDateTime(\"2024-01-20T21:58:18.994539Z\")\n",
    "print(starttime, endtime)"
   ]
  },
  {
   "cell_type": "markdown",
   "metadata": {
    "id": "TBdSDLQfv9Gj"
   },
   "source": [
    "## 4) Removing the instrument response\n",
    "\n",
    "The trace shown in blue above does not represent the actual ground motion at station **HKT**, but it is in digital *counts*, to be read by a computer. Those counts were digitized from the *analog* voltage signal that is necessary to keep the mass inside the instrument stable when the ground is moving; an *electromagnetic* negative feedback device[IRIS](https://www.iris.edu).\n",
    "\n",
    "To convert *counts* to ground velocity we need to remove the **digitizer and the response of the seismometer** itself; a function of frequency. We will use **Obspy** for that, but we will need the *instrument response*, which is not in the data file [2024-01-20-mww66-western-brazil.miniseed](https://github.com/jandyr/ProSeisSN/tree/main/Unit01/Expositive).\n",
    "\n",
    "### 4.1. UTCDateTime objects\n",
    "\n",
    "**Obspy** manages the downloading and handling data using [UTCDateTime objects](https://docs.obspy.org/tutorial/code_snippets/utc_date_time.html). It is a Python string\n",
    "\n",
    "**YYYY-MM-DDTHH:MM:SS**,\n",
    "\n",
    "with the origin time of an earthquake, or the start of the time period to download the data.\n",
    "\n",
    "We know the metadata from the event occured in Acre in 2024, downloaded using [IRIS Wilber](http://www.iris.edu/wilber3). We have downloaded the data starting 1min before the **P** arrival time.\n",
    "\n",
    "\n",
    "\n",
    "\n",
    "\n"
   ]
  },
  {
   "cell_type": "markdown",
   "metadata": {
    "id": "GIIHUbEOP_y1"
   },
   "source": [
    "###4.2. Specify station\n",
    "\n",
    "We need to provide: network, station, location, and channels:\n",
    "\n",
    "__Network code__: Identifies the [network](http://ds.iris.edu/mda/) assigned by the FDSN.\n",
    "\n",
    "__Station code__: The station within a network.\n",
    "\n",
    "__Location ID__: Stations can have more than one instrument, which is specified by the location ID.\n",
    "\n",
    "__Channel codes__: A three character channel code.\n",
    "\n",
    "Specify [IRIS](https://docs.obspy.org/packages/obspy.clients.fdsn.html) as a client of the [FDSN (International Federation of Digital Seismograph Networks)](https://www.fdsn.org/about/)."
   ]
  },
  {
   "cell_type": "code",
   "execution_count": null,
   "metadata": {
    "colab": {
     "base_uri": "https://localhost:8080/",
     "height": 387
    },
    "id": "jhGwPqPQURQr",
    "outputId": "1286f05c-580c-422f-9407-e18bd70b139e"
   },
   "outputs": [],
   "source": [
    "# Import ObsPy Client class\n",
    "from obspy.clients.fdsn import Client\n",
    "\n",
    "# Specify client\n",
    "client = Client(\"IRIS\")"
   ]
  },
  {
   "cell_type": "markdown",
   "metadata": {
    "id": "TvR6s-bPUoAs"
   },
   "source": [
    "_(i)  Provide: network, station, location, and channels_\n",
    "\n",
    "_(ii) Use **Obspy** function: **get_waveforms**_"
   ]
  },
  {
   "cell_type": "code",
   "execution_count": null,
   "metadata": {
    "id": "c_3e5TU-VylL"
   },
   "outputs": [],
   "source": [
    "# Use wildcards to select all three HH channels\n",
    "net = \"IU\"\n",
    "sta = \"HKT\"\n",
    "loc = \"00\"\n",
    "chan = \"HH*\"\n",
    "\n",
    "# Get waveforms with instrument response into a stream\n",
    "st = client.get_waveforms(net, sta, loc, chan, starttime, endtime, attach_response = True)\n",
    "print(st)\n",
    "st.plot();"
   ]
  },
  {
   "cell_type": "markdown",
   "metadata": {
    "id": "bW9Fm0cQisvn"
   },
   "source": [
    "###4.3. Remove the instrument response\n",
    "\n",
    "_(i)  Make a *deep* copy of the original stream as the function **remove_response** acts on the data, overwriting the original stream._\n",
    "\n",
    "_(ii) Express the ground motion in velocity, **output = 'VEL'**, in units of velocity (m/s)._\n",
    "\n",
    "The process involves multiplication with the inverse of the instrument response, which usually attain small numerical values at both frequency ends. This results in the signal+noise being multiplied by relatively large numbers, making noise contribution large. This can be alleviated by tapering the signal or imposing a *cap* to the inverse of the instrument response.\n",
    "\n",
    "_Caution:_ If you run the code below more than once the function **remove_response** will corrupt the data because the original stream is lost. Use the copy of the original stream if needed."
   ]
  },
  {
   "cell_type": "code",
   "execution_count": null,
   "metadata": {
    "id": "hwq3rcLnmKyM"
   },
   "outputs": [],
   "source": [
    "# Deep copy of the original stream\n",
    "st_0 = st.copy()\n",
    "\n",
    "# Remove the instrument response of all components. Other options: output = 'DISP', 'ACC'\n",
    "st.remove_response(output = 'VEL')\n",
    "\n",
    "# Plot only Z component (the last trace in stream).\n",
    "# Make a deep copy of it as remove_response acts on the data, overwriting it\n",
    "dummy = st_0[-1].copy()\n",
    "dummy.remove_response(output = 'VEL', plot = True)\n",
    "\n",
    "st_0[-1].plot()\n",
    "dummy.plot(color = 'blue');"
   ]
  },
  {
   "cell_type": "markdown",
   "metadata": {
    "id": "y11lEeZKSke4"
   },
   "source": [
    "###4.4. Save the corrected data\n",
    "\n",
    "Save the data with the instrument response removed for further work, in the same directory as this Jupyter notebook.\n",
    "\n",
    "_Save the data in miniSEED_ specifying file path, name, extension, and data format:\n",
    "\n",
    "**stream.write('/path/filename.mseed', format='MSEED')**."
   ]
  },
  {
   "cell_type": "code",
   "execution_count": null,
   "metadata": {
    "id": "2wkDs-O0VRyq"
   },
   "outputs": [],
   "source": [
    "# Save it with event code in the name (wb=western-brazil, ir=nstrument response removed)\n",
    "filename = 'wb11793085' + '_ir' + '.mseed'\n",
    "dummy = input(f'>> Save instrument corrected data '+filename+' (rtn = No): \\n') or False\n",
    "if not dummy:\n",
    "    st.write(filename, format='MSEED')\n",
    "\n",
    "# Check Z component\n",
    "dummy = read(filename)\n",
    "print(dummy[-1].stats)"
   ]
  }
 ],
 "metadata": {
  "colab": {
   "provenance": []
  },
  "kernelspec": {
   "display_name": "Python 3 (ipykernel)",
   "language": "python",
   "name": "python3"
  },
  "language_info": {
   "codemirror_mode": {
    "name": "ipython",
    "version": 3
   },
   "file_extension": ".py",
   "mimetype": "text/x-python",
   "name": "python",
   "nbconvert_exporter": "python",
   "pygments_lexer": "ipython3",
   "version": "3.9.7"
  }
 },
 "nbformat": 4,
 "nbformat_minor": 1
}
