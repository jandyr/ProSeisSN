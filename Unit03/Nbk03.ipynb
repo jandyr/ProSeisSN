{
 "cells": [
  {
   "cell_type": "markdown",
   "metadata": {
    "id": "HeMSvOAPfX5S"
   },
   "source": [
    "\n",
    "---\n",
    "# Unit03: Processing passive seismic data\n",
    "\n",
    "This notebook has some practical processing activities of the Course **ProSeisSN**. It deals with data processing using a passive seismic dataset using [ObsPy](https://docs.obspy.org/).\n",
    "\n",
    "#### Dependencies: Obspy, Numpy, Matplotlib\n",
    "\n",
    "#### Reset the Jupyter/IPython notebook in order to run it again, press:\n",
    "***Kernel*** -> ***Restart & Clear Output***"
   ]
  },
  {
   "cell_type": "code",
   "execution_count": 5,
   "metadata": {
    "colab": {
     "base_uri": "https://localhost:8080/",
     "height": 480
    },
    "id": "uzMJ-lGlkGuK",
    "outputId": "66c27f9e-fd21-4a54-ed6d-6a23b77ec540"
   },
   "outputs": [
    {
     "name": "stdout",
     "output_type": "stream",
     "text": [
      "obspy version==> 1.2.2\n"
     ]
    }
   ],
   "source": [
    "# Import Libraries\n",
    "import numpy as np\n",
    "\n",
    "%matplotlib inline\n",
    "import matplotlib\n",
    "matplotlib.use('nbagg')\n",
    "import matplotlib.pyplot as plt\n",
    "import matplotlib.dates as mdates\n",
    "from matplotlib import rcParams\n",
    "\"\"\"\n",
    "Activate the ipympl backend by including\n",
    "%matplotlib ipympl\n",
    "magic in the notebook or by\n",
    "%matplotlib widget\n",
    "which will have the same effect.\n",
    "\n",
    "Other magic:\n",
    "%matplotlib inline\n",
    "%matplotlib notebook\n",
    "\"\"\"\n",
    "%matplotlib widget\n",
    "\n",
    "# Import specialized ObsPy packages + sanity.\n",
    "try:\n",
    "    import obspy\n",
    "    print('obspy version==>', obspy.__version__)\n",
    "except TypeError:\n",
    "    print('Stopping RUNTIME. ObsPy not found.')\n",
    "    exit()\n",
    "\n",
    "from obspy import read\n",
    "from obspy import Stream\n",
    "from obspy import UTCDateTime\n",
    "from obspy import read, Stream\n",
    "from obspy.clients.fdsn import Client\n",
    "from obspy.clients.fdsn.header import FDSNException"
   ]
  },
  {
   "cell_type": "markdown",
   "metadata": {
    "id": "-UQ66x8GfX5U"
   },
   "source": [
    "---\n",
    "## Accessing data\n",
    "\n",
    "We work with data form an event occured in Acre in 2024,\n",
    "\n",
    "|EventID | Time | Lat | Long | Depth(km) | Mww | Location |\n",
    "| :- | :-: | :- | :- | :-: | :-: | :- |\n",
    "|11793085|2024-01-20T21:31|-7.2879|-71.464|607|6.6|WESTERN BRAZIL|\n",
    "\n",
    "As recorded at station IU HKT, distant $44^{\\circ}$ from the event. We have two options:\n",
    "\n",
    "- **Read** the data locally $\\Longrightarrow$ skip next code, or\n",
    "\n",
    "- **Retrive** the data from client **IRIS** $\\Longrightarrow$ run next code skipping the next one."
   ]
  },
  {
   "cell_type": "code",
   "execution_count": null,
   "metadata": {
    "colab": {
     "base_uri": "https://localhost:8080/"
    },
    "id": "ExXuGR-6fX5U",
    "outputId": "f1ff13b2-6f99-489c-d0c7-59351706f20b"
   },
   "outputs": [],
   "source": [
    "\"\"\"\n",
    "=========== ONLY RUN THIS CODE TO RETRIEVE THE DATA FROM IRIS. SKIP THE NEXT CODE =========== \n",
    "\"\"\"\n",
    "# Specify event's start and end times\n",
    "starttime = UTCDateTime(\"2024-01-20T21:37:19.019539Z\") - 60\n",
    "endtime = UTCDateTime(\"2024-01-20T21:58:18.994539Z\")\n",
    "print(starttime, endtime)\n",
    "\n",
    "# Use wildcards to select all three HH* channels\n",
    "net = \"IU\"\n",
    "sta = \"HKT\"\n",
    "loc = \"00\"\n",
    "chan = \"HH*\"\n",
    "\n",
    "# Specify client. Opt:from obspy.clients.earthworm import Client\n",
    "# Get waveforms with instrument response into a stream\n",
    "# List of ObsPy clients: clients = [\"IRIS\", \"NCEDC\", \"USGS\", \"GEONET\", \"RESIF\", \"INGV\", \"BGR\", \"ODC\", \"SCEDC\"]\n",
    "try:\n",
    "  client = Client(\"IRIS\")\n",
    "  st = client.get_waveforms(net, sta, loc, chan, starttime, endtime, attach_response = True)\n",
    "except FDSNException:\n",
    "  print(f\"Chosen client is not working.\")\n",
    "  from obspy.clients.earthworm import Client\n",
    "  client = Client(\"ETH\")\n",
    "  st = client.get_waveforms(net, sta, loc, chan, starttime, endtime, attach_response = True)\n",
    "\n",
    "# Remove the instrument response in all the 3 components/traces.\n",
    "st.remove_response(output = 'VEL')"
   ]
  },
  {
   "cell_type": "code",
   "execution_count": 3,
   "metadata": {},
   "outputs": [
    {
     "name": "stdout",
     "output_type": "stream",
     "text": [
      "Stream of Acre event at station IU HKT:\n",
      " 3 Trace(s) in Stream:\n",
      "IU.HKT.00.HH1 | 2024-01-20T21:36:19.028394Z - 2024-01-20T21:43:14.538394Z | 100.0 Hz, 41552 samples\n",
      "IU.HKT.00.HH2 | 2024-01-20T21:36:19.028394Z - 2024-01-20T21:43:17.648394Z | 100.0 Hz, 41863 samples\n",
      "IU.HKT.00.HHZ | 2024-01-20T21:36:19.028394Z - 2024-01-20T21:43:17.688394Z | 100.0 Hz, 41867 samples\n"
     ]
    }
   ],
   "source": [
    "\"\"\"\n",
    "=========== ONLY RUN THIS CODE TO READ THE DATA LOCALLY ===========\n",
    "\"\"\"\n",
    "# Read the data into a stream object\n",
    "st = read('wb11793085r.msd')"
   ]
  },
  {
   "cell_type": "code",
   "execution_count": 4,
   "metadata": {
    "id": "tPXqFffqyL6L"
   },
   "outputs": [
    {
     "name": "stdout",
     "output_type": "stream",
     "text": [
      "Stream of Acre event at station IU HKT:\n",
      " 3 Trace(s) in Stream:\n",
      "IU.HKT.00.HH1 | 2024-01-20T21:36:19.028394Z - 2024-01-20T21:43:14.538394Z | 100.0 Hz, 41552 samples\n",
      "IU.HKT.00.HH2 | 2024-01-20T21:36:19.028394Z - 2024-01-20T21:43:17.648394Z | 100.0 Hz, 41863 samples\n",
      "IU.HKT.00.HHZ | 2024-01-20T21:36:19.028394Z - 2024-01-20T21:43:17.688394Z | 100.0 Hz, 41867 samples\n",
      "Z-component characteristis:\n",
      "          network: IU\n",
      "         station: HKT\n",
      "        location: 00\n",
      "         channel: HHZ\n",
      "       starttime: 2024-01-20T21:36:19.028394Z\n",
      "         endtime: 2024-01-20T21:43:17.688394Z\n",
      "   sampling_rate: 100.0\n",
      "           delta: 0.01\n",
      "            npts: 41867\n",
      "           calib: 1.0\n",
      "         _format: MSEED\n",
      "           mseed: AttribDict({'dataquality': 'M', 'number_of_records': 748, 'encoding': 'FLOAT64', 'byteorder': '>', 'record_length': 512, 'filesize': 1145856})\n"
     ]
    }
   ],
   "source": [
    "# Print stream information\n",
    "print(f\"Stream of Acre event at station IU HKT:\\n {st}\")\n",
    "print(f\"Characteristis for the Z-component:\\n {st[-1].stats}\")"
   ]
  },
  {
   "cell_type": "markdown",
   "metadata": {},
   "source": [
    "# ==> My memos from Volcanoseismology <== to be deleted!\n",
    "\n",
    "- lecture_14_theory_fourier.ipynb\n",
    "\n",
    "- lecture_15_theory_filter.ipynb\n",
    "\n",
    "- lecture_16_theory_spectral_analysis_preprocessing.ipynb\n",
    "\n",
    "- lecture_18_obspy_signal_processing.ipynb\n",
    "\n",
    "- lecture_19_obspy_instrument_response.ipynb\n"
   ]
  },
  {
   "cell_type": "code",
   "execution_count": null,
   "metadata": {},
   "outputs": [],
   "source": []
  }
 ],
 "metadata": {
  "colab": {
   "provenance": []
  },
  "kernelspec": {
   "display_name": "Python 3",
   "language": "python",
   "name": "python3"
  },
  "language_info": {
   "codemirror_mode": {
    "name": "ipython",
    "version": 3
   },
   "file_extension": ".py",
   "mimetype": "text/x-python",
   "name": "python",
   "nbconvert_exporter": "python",
   "pygments_lexer": "ipython3",
   "version": "3.8.12"
  }
 },
 "nbformat": 4,
 "nbformat_minor": 4
}
