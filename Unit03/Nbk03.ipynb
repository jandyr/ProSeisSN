{
 "cells": [
  {
   "cell_type": "markdown",
   "metadata": {
    "id": "HeMSvOAPfX5S"
   },
   "source": [
    "\n",
    "---\n",
    "# Unit03: Processing passive seismic data I\n",
    "\n",
    "This notebook has some practical processing activities of the Course **ProSeisSN**. It deals with time series processing using a passive seismic dataset using [ObsPy](https://docs.obspy.org/).\n",
    "\n",
    "#### Dependencies: Obspy, Numpy, Matplotlib\n",
    "\n",
    "#### Reset the Jupyter/IPython notebook in order to run it again, press:\n",
    "***Kernel*** -> ***Restart & Clear Output***"
   ]
  },
  {
   "cell_type": "code",
   "execution_count": null,
   "metadata": {
    "colab": {
     "base_uri": "https://localhost:8080/",
     "height": 480
    },
    "id": "uzMJ-lGlkGuK",
    "outputId": "66c27f9e-fd21-4a54-ed6d-6a23b77ec540"
   },
   "outputs": [],
   "source": [
    "#------ Import OS Libraries\n",
    "import sys\n",
    "import os\n",
    "\n",
    "#------ Work with the directory structure to include auxiliary codes\n",
    "print('\\n Local directory ==> ', os.getcwd())\n",
    "print('  - Contents: ', os.listdir(), '\\n')\n",
    "\n",
    "path = os.path.abspath(os.path.join('..'))\n",
    "if path not in sys.path:\n",
    "    sys.path.append(path+\"/CodePy\")\n",
    "\n",
    "%run ../CodePy/ImpMod.ipynb\n",
    "\n",
    "#------ Alter default matplotlib rcParams\n",
    "from matplotlib import rcParams\n",
    "# Change the defaults of the runtime configuration settings in the global variable matplotlib.rcParams\n",
    "plt.rcParams['figure.figsize'] = 9, 5\n",
    "#plt.rcParams['lines.linewidth'] = 0.5\n",
    "plt.rcParams[\"figure.subplot.hspace\"] = (.9)"
   ]
  },
  {
   "cell_type": "markdown",
   "metadata": {
    "id": "-UQ66x8GfX5U"
   },
   "source": [
    "---\n",
    "## Accessing data\n",
    "\n",
    "We work with data form an event occured in Acre in 2024,\n",
    "\n",
    "|EventID | Time | Lat | Long | Depth(km) | Mww | Location |\n",
    "| :- | :-: | :- | :- | :-: | :-: | :- |\n",
    "|11793085|2024-01-20T21:31|-7.2879|-71.464|607|6.6|WESTERN BRAZIL|\n",
    "\n",
    "As recorded at station IU HKT, distant $44^{\\circ}$ from the event. We have two options:\n",
    "\n",
    "- **Read** the data locally $\\Longrightarrow$ skip next code, or\n",
    "\n",
    "- **Retrive** the data from client **IRIS** $\\Longrightarrow$ run next code skipping the next one."
   ]
  },
  {
   "cell_type": "markdown",
   "metadata": {},
   "source": [
    "---\n",
    "#### The $\\Downarrow$ first $\\Downarrow$ line skips the following cell"
   ]
  },
  {
   "cell_type": "code",
   "execution_count": null,
   "metadata": {
    "colab": {
     "base_uri": "https://localhost:8080/"
    },
    "id": "ExXuGR-6fX5U",
    "outputId": "f1ff13b2-6f99-489c-d0c7-59351706f20b"
   },
   "outputs": [],
   "source": [
    "%%script echo skipping\n",
    "\"\"\"\n",
    "=========== RETRIEVE THE DATA FROM IRIS ===========\n",
    "\"\"\"\n",
    "#--------  Specify event's start and end times\n",
    "starttime = UTCDateTime(\"2024-01-20T21:37:19.019539Z\") - 60\n",
    "endtime = UTCDateTime(\"2024-01-20T21:58:18.994539Z\")\n",
    "print(starttime, endtime)\n",
    "\n",
    "# Use wildcards to select all three HH* channels\n",
    "net = \"IU\"\n",
    "sta = \"HKT\"\n",
    "loc = \"00\"\n",
    "chan = \"HH*\"\n",
    "\n",
    "# Specify client. Opt:from obspy.clients.earthworm import Client\n",
    "# Get waveforms with instrument response into a stream\n",
    "# List of ObsPy clients: clients = [\"IRIS\", \"NCEDC\", \"USGS\", \"GEONET\", \"RESIF\", \"INGV\", \"BGR\", \"ODC\", \"SCEDC\"]\n",
    "try:\n",
    "  client = Client(\"IRIS\")\n",
    "  st = client.get_waveforms(net, sta, loc, chan, starttime, endtime, attach_response = True)\n",
    "except FDSNException:\n",
    "  print(f\"Chosen client is not working.\")\n",
    "  from obspy.clients.earthworm import Client\n",
    "  client = Client(\"ETH\")\n",
    "  st = client.get_waveforms(net, sta, loc, chan, starttime, endtime, attach_response = True)\n",
    "\n",
    "#--------  Remove the instrument response in all the 3 components/traces.\n",
    "st.remove_response(output = 'VEL')\n",
    "\n",
    "#-------- Save the corrected data (wb=western-brazil, lp=low pass filtered)\n",
    "filename = '../Data/wb11793085r' + '.mseed'\n",
    "st[-1].write(filename, format='MSEED')\n",
    "\n",
    "# Sanity\n",
    "try:\n",
    "    dummy = read(filename)\n",
    "    print(f\"Filtered Z-data at station IU HKT:\\n {dummy[-1].stats}\")\n",
    "except:\n",
    "    print(f\".\")\n",
    "    print(f\"Failed to write the data if file {filename}\")\n",
    "\n",
    "#--------  Start a list to record the processing flux in Unit03\n",
    "\n",
    "Pflux = ['Unit03', 'written '+filename]\n",
    "Pflux.append('remove_response')"
   ]
  },
  {
   "cell_type": "markdown",
   "metadata": {},
   "source": [
    "---\n",
    "#### The $\\Downarrow$ first $\\Downarrow$ line skips the following cell"
   ]
  },
  {
   "cell_type": "code",
   "execution_count": null,
   "metadata": {},
   "outputs": [],
   "source": [
    "#%%script echo skipping\n",
    "\"\"\"\n",
    "=========== READ THE DATA LOCALLY ===========\n",
    "\"\"\"\n",
    "# Read the data into a stream object\n",
    "filename = '../Data/wb11793085r' + '.mseed'\n",
    "st = read(filename)\n",
    "print(f\"Stream of Acre event at station IU HKT:\\n {st}\")\n",
    "\n",
    "#--------  Start a list to record the processing flux in Unit03\n",
    "\n",
    "Pflux = ['Unit03', 'read '+filename]"
   ]
  },
  {
   "attachments": {
    "image-2.png": {
     "image/png": "[encoded data removed]"
    }
   },
   "cell_type": "markdown",
   "metadata": {},
   "source": [
    "---\n",
    "## WARNINGS:\n",
    "#### 1) Always press the ***stop interation button *** before running another plotting cell!  ![image-2.png](attachment:image-2.png)\n",
    "#### 2) Use plot $\\Downarrow$ BELOW $\\Downarrow$ to decide on trimming limits!"
   ]
  },
  {
   "cell_type": "code",
   "execution_count": null,
   "metadata": {
    "id": "tPXqFffqyL6L"
   },
   "outputs": [],
   "source": [
    "# Print stream information and plot the z-component\n",
    "print(f\"Characteristis for the Z-component:\\n {st[-1].stats}\")\n",
    "\n",
    "# Make a deep copy of the Z-component\n",
    "trZ = st[-1].copy()\n",
    "\n",
    "# Plot the z-component in RELATIVE TIME (nicer view)\n",
    "#                            +───────+─> x-axis = 0, ...s                          \n",
    "trZ.plot(color='blue', type='relative', handle=True)\n",
    "#                                       +────+─> A matplotlib figure instance\n",
    "trZ\n",
    "\n",
    "#---- A safety copy for an eventual reset in the next cell ----\n",
    "tr0 = trZ.copy()"
   ]
  },
  {
   "cell_type": "markdown",
   "metadata": {},
   "source": [
    "---\n",
    "## Data Trimming\n",
    "\n",
    "Remove time segments of the signal.   "
   ]
  },
  {
   "cell_type": "code",
   "execution_count": null,
   "metadata": {
    "scrolled": false
   },
   "outputs": [],
   "source": [
    "print(f\"Original trace has a duration of {trZ.stats.endtime - trZ.stats.starttime}s\")\n",
    "print(f\"Enter a window [t[0] t[1]]s on the trace duration to trim the trace\")\n",
    "\n",
    "ent = input(f' Enter t[0] and t[1] (rtn= the whole trace):\\n') or False\n",
    " \n",
    "#      +───────────────────────────────────────────────+─> string lists <─+─────────────────────+\n",
    "ent = ['0', str(trZ.stats.endtime - trZ.stats.starttime)] if not ent else ent.rstrip().split(' ')\n",
    "# Transforms a str list into an ARRAY OF FLOATS\n",
    "ent = np.array(ent, dtype=float)\n",
    "\n",
    "#--------  TRIM trace now ==> NB: trace is modifyed in place!!!\n",
    "trZ.trim(trZ.stats.starttime + ent[0], trZ.stats.starttime + ent[-1])\n",
    "\n",
    "#Plot and print.\n",
    "trZ.plot(color='red', type='relative', handle=True)\n",
    "trZ\n",
    "\n",
    "#------------------- Reset the trace from the last cell ------------------\n",
    "\"\"\"\n",
    "    THIS PIECE OF CODE BELOW WILL BE SUBSTITUTED WITH A CALL TO A SINPPET LATER\n",
    "\n",
    "                tr0, trz = u.AuxReset(tr0, trz)\n",
    "\"\"\"\n",
    "ent = input(f' Do you want to run this cell again?(rtn= Not):\\n') or False\n",
    "if ent:\n",
    "    trZ = tr0.copy()\n",
    "    print(f' Original trace copied back.')\n",
    "else:\n",
    "#         +────────+─> A safety DEEP copy for an eventual reset in the next cell\n",
    "    tr0 = trZ.copy()\n",
    "    print(f' A safety copy was created for the next cell.')"
   ]
  },
  {
   "cell_type": "markdown",
   "metadata": {},
   "source": [
    "---\n",
    "\n",
    "## Preprocessing the data\n",
    "\n",
    "**Preprocessing data** is done before any attempt toward any scientific analysis. The needed steps include:\n",
    "\n",
    "- Detrend and demean the data\n",
    "- Window the data\n",
    "- Instrument correction   \n",
    "- Low-pass filtering\n",
    "- Downsample or resample the data\n",
    "- Select a specific window and Pad it with zeros\n",
    "- Ohter filtering stages.\n",
    "\n",
    "### The Fourier transform\n",
    "\n",
    "A great deal of the work is done in the frequency domain where we can analyse the signal according with its energy content by frequency, or its spectral energy contents. The **Fourier transform** is given in its integral form by\n",
    "$$\n",
    "F(\\omega) = \\frac{1}{2\\pi} \\int_{-\\infty}^{\\infty} f(t) e^{-i\\omega t} dt \\leftrightarrow f(t) =  \\int_{-\\infty}^{\\infty} F(\\omega)e^{i\\omega t}dt;\n",
    "$$\n",
    "a Fourier pair, $f\\left(t\\right)\\longleftrightarrow F\\left(\\omega\\right)$. Note that the signal on the exponent is a matter of convention.\n",
    "\n",
    "In seismics the signals are discrete in time, so we turn to the *discrete form*,\n",
    "$$\n",
    "F_k = \\frac{1}{N} \\sum_{j=0}^{N-1} f_j e^{-2\\pi i k j /N} \\leftrightarrow f_k = \\sum_{j=0}^{N-1} F_j e^{2\\pi i k j /N}\n",
    "$$\n",
    "where\n",
    "- $j$ corresponds to a time sample $\\,\\rightarrow\\:f_j\\,\\in\\mathbb{R}$, is the signal at the corresponding time $j$\n",
    "- $N$ is the number of time samples $\\,\\rightarrow\\:j=1,\\ldots,N$\n",
    "- $k$ corresponds to a frequency value $\\,\\rightarrow\\:F_j\\,\\in\\mathbb{C}$, is the **amplitude** at the corresponding frequency $k$.\n",
    "\n",
    "#### Brute force frequency content\n",
    "Investigate the frequency content of the amplitude spectrum, $\\in\\mathbb{R}$, using *brute force*. This results in a poor spectrum with energy leakage and numerical instabilities. We need to do a better job."
   ]
  },
  {
   "cell_type": "code",
   "execution_count": null,
   "metadata": {},
   "outputs": [],
   "source": [
    "#----- z-component characteristics\n",
    "npts = trZ.stats.npts                           # number of samples\n",
    "dt   = trZ.stats.delta                          # sampling interval\n",
    "fNy  = 1. / (2.0 * dt)                          # Nyquist frequency\n",
    "time = trZ.times(type=\"relative\")               # nummpy array with reative time t=0,...\n",
    "lsec = time[-1]                                 # length of signal in seconds\n",
    "\n",
    "#----- Print stream information and plot the \n",
    "print(f\"z-component has {npts} at {dt}s, with a time-window {lsec}s\")\n",
    "\n",
    "# Frequency domain +───────+─> trace data as a nummpy array\n",
    "FtrZ = np.fft.rfft(trZ.data)\n",
    "\n",
    "#--------  frequency values+───────+─> length of FT of the signal\n",
    "freq = np.linspace(0, fNy, len(FtrZ))\n",
    "\n",
    "#Plot\n",
    "p.pltTrSp(time, trZ.data, freq, abs(FtrZ),\n",
    "        x1label='Time (s)', y1label='Amplitude',\n",
    "        x2label='Frequency (Hz)', y2label='Ampl. spectrum', y2log=True\n",
    "        )"
   ]
  },
  {
   "attachments": {
    "image.png": {
     "image/png": "[encoded data removed]"
    }
   },
   "cell_type": "markdown",
   "metadata": {},
   "source": [
    "---\n",
    "## Demean / detrend\n",
    "If the trace has a mean, $\\overline{\\textrm{trace}}\\neq0$, or if it has a trend, most spectral enegy will leak\n",
    "toward the lower frequencies $\\underset{\\omega\\rightarrow0}{\\mathcal{E}}\\!\\!\\!\\rightarrow\\infty$. Have a look at the above spectrum. Deal with this by:\n",
    "\n",
    "- Subtract a LS (least squares) from the data.\n",
    "- Subtract the mean of the data\n",
    "\n",
    "![image.png](attachment:image.png)\n",
    "\n",
    "#### The code $\\Downarrow$ BELOW $\\Downarrow$ will change the trace *in place*;  use safety copy to run it again!"
   ]
  },
  {
   "cell_type": "code",
   "execution_count": null,
   "metadata": {},
   "outputs": [],
   "source": [
    "#Print the data mean. Use np.float64 to assure accuracy\n",
    "print(f\"The mean of trace amplitudes is {np.mean(trZ.data, dtype=np.float64)}\\n\")\n",
    "#            trace data as a nummpy array   <────+───────+\n",
    "\n",
    "# Remove any linear trend\n",
    "trZ.detrend(\"linear\")\n",
    "\n",
    "# Remove the mean\n",
    "trZ.detrend(\"demean\")\n",
    "\n",
    "# Plot\n",
    "#                     +──+─> x-axis in duration (s)                           \n",
    "trZ.plot(color='blue', type='relative', handle=True)\n",
    "#                                      +────+─> A matplotlib figure instance\n",
    "\n",
    "#--------  Append to the processing flux in Unit03\n",
    "Pflux.extend( ('linear trend', 'demean') )\n",
    "\n",
    "#---- A safety copy for an eventual reset in the next cell ----\n",
    "tr0 = trZ.copy()"
   ]
  },
  {
   "attachments": {
    "image.png": {
     "image/png": "[encoded data removed]"
    }
   },
   "cell_type": "markdown",
   "metadata": {},
   "source": [
    "## Tapering a data window\n",
    "Selecting the signal by itself is equivalent to multiplying the data by a **box-car window**. The ends of the *signal* go abruptly $\\rightarrow0$, causing discontinuities in the time-domain and distorting the edges in frequency-domain (Gibb's phenomenon). This would seriously affect the signal reconstructed to the time-domain, which would suffer from overshoot and ringing.\n",
    "![image.png](attachment:image.png)\n",
    "\n",
    "A common window is the **Hanning Window**, whichs uses a cosine function to taper both ends."
   ]
  },
  {
   "cell_type": "code",
   "execution_count": null,
   "metadata": {},
   "outputs": [],
   "source": [
    "trZ = tr0.copy()\n",
    "\n",
    "\n",
    "ent = input(f' Enter the percentage to taper window ends (rtn=0.1)\\n') or 0.1\n",
    "ent = float(ent)\n",
    "\n",
    "# Apply Hanning on the signal\n",
    "trZ.taper(type = 'hann', max_percentage = ent)\n",
    "\n",
    "#Plot\n",
    "trZ.plot(color='red', type='relative', handle=True)\n",
    "\n",
    "#--------  Append to the processing flux in Unit03\n",
    "Pflux.append(('Hanning '+str(ent)))\n",
    "\n",
    "#------------------- Reset the trace from the last cell ------------------\n",
    "tr0, trZ = u.AuxReset(tr0, trZ)"
   ]
  },
  {
   "attachments": {
    "image-4.png": {
     "image/png": "[encoded data removed]"
    }
   },
   "cell_type": "markdown",
   "metadata": {},
   "source": [
    "## Filtering\n",
    "\n",
    "Let $x\\left(t\\right)\\longleftrightarrow X\\left(\\omega\\right)$ be a Fourier pair. The application of a filter on\n",
    "$x\\left(t\\right)$ produce yet another Fourier pair,\n",
    "$$\\mathcal{F}\\left\\{ x\\left(t\\right)\\right\\} \\Rightarrow y\\left(t\\right)\\longleftrightarrow Y\\left(\\omega\\right)$$\n",
    "\n",
    "The filter **frequency response function** is given by its ***transfer function*** (Fourier transform of the **output signal** divided by the Fourier transformation of the **input signal**.)\n",
    "\n",
    "$$ T(\\omega) = \\frac{Y(\\omega)}{X(\\omega)}.$$\n",
    "\n",
    "The transfer function of a simple lowpass filter is\n",
    "\n",
    "$$ |T(\\omega)| = \\sqrt{ \\frac{1}{1+(\\frac{\\omega}{\\omega_c})^{2n}} }, $$\n",
    "\n",
    "where:\n",
    "- $\\omega$ is the frequency;\n",
    "- $\\omega_c$ is the corner frequency;\n",
    "- $n$ is the filter order, or its number of corners. It defines the slope steepness of the **transition band**, the higher it is, the steeper is the slope. \n",
    "![image-4.png](attachment:image-4.png)\n",
    "\n",
    "Filters can be\n",
    "| **causal** |  $\\Vert$ | **acausal** |\n",
    "| :-: | :-: | :-: |\n",
    "| Not symmetric | $\\Vert$ |Symmetric |\n",
    "| O/P depends on past & present of the I/P | $\\Vert$ | O/P depends on past, present and future of the I/P |\n",
    "\n",
    "- A non-causal filter without real-time future values can be achied with forward-backward filtering, where the signal is also filtered in the reverse direction in time, effectively canceling out the phase delay introduced by the forward **causal** filter.\n",
    "\n",
    "#### Four main types of filters:\n",
    "- **lowpass filter**, where the pass-band is $\\omega\\lessapprox\\omega_{c}$\n",
    "- **highpass filter**, where the pass-band is $\\omega\\gtrapprox\\omega_{c}$\n",
    "- **bandpass filter**, where the pass-band is $\\omega\\gtrapprox\\omega_{c}\\lessapprox\\omega$\n",
    "- **bandstop filter**, where the pass-band is $\\omega\\lessapprox\\omega_{c}\\gtrapprox\\omega$\n",
    "\n",
    "Those four filters are easily implemented in the **frequency domain**: (i) transform the signal via **FFT**; (ii) multiply it with the **FFT of the impulse response function**; and (iii) transfer the result back to the **time-domain**.\n",
    "\n",
    "There are filters which are often implemented in the **time-domain**:\n",
    "- **Infinite impulse response (IIR) filters**, which are recursive & causal, are more efficient in terms of the number of coefficients required for a sharp bandpass response but may introduce phase distortion.\n",
    "\n",
    "- **Finite impulse response (FIR) filters**, which are non-recursive & causal or acausal, can provide a linear-phase response, which avoids phase distortion, but they may require more coefficients to achieve the same level of sharpness in the frequency response as an IIR filter."
   ]
  },
  {
   "cell_type": "markdown",
   "metadata": {},
   "source": [
    "---\n",
    "### Lowpass filter the signal: Get rid of the higher frequencies\n",
    "\n",
    "#### The sampling theorem\n",
    "The main concepts in dealing with *sampled signals* are:\n",
    "\n",
    "- The **sampling interval** is the $\\delta t=t_{i=1}-t_{i},\\,i=1,\\ldots,N$ between any two samples, where $N$ is the **number** of samples in the signal.\n",
    "\n",
    "- The **period**, or **time window**, or **duration** of the signal is $T = \\left(N-1\\right)\\delta t$.\n",
    "\n",
    "- The **sampling rate**, or **sampling frequency**, is $f_s=1/\\delta t$. The **Fourier coefficients** of the transformed signal have a spacing of $\\Delta f = 1/T$.\n",
    "\n",
    "- The **sampling theorem** states that it is necessary at least **2 samples per period** to reproduce the *highest frequency of a sampled signal*, which defines the **Nyquist frequency**.\n",
    "$$ f_{Ny} = \\frac{1}{2\\delta t} = \\frac{f_s}{2}$$\n",
    "\n",
    "- Nevertheless real data has **noise** so we need a safety margin on the **Nyquist frequency**. A safety margin of $\\zeta=0.8$ or 80\\% is usual. We then set the **highest frequency** as\n",
    "$$ f_{max} = \\zeta\\frac{f_s}{2}$$\n",
    "\n",
    "- The **demean and detrend** stage has minimized the *lower frequency* content of the data. Therefore we can set a limit for the *lower frequency* using an analogy to the **sampling theorem** approach,\n",
    "$$ f_{min} = \\frac{1}{2T} = \\frac{\\Delta f}{2}.$$\n",
    "\n",
    "#### The relevant limits for visualization\n",
    "As we have LP filtered for a corner frequency of $f_c$, there is no reason to display all frquencies up to\n",
    "$\\zeta f_{Ny}$ or to $f_{Ny}$, we should stop frequencies at a given $f_{c}^{\\prime}>f_{c}$.\n",
    "$$\\underset{0}{\\mid}\\cdotp\\!\\underset{f_{min}}{\\cdotp\\cdotp\\mid\\cdotp\\cdotp}\\cdot\\cdotp\\cdotp\\cdotp\\underset{f_{0}}{\\cdotp\\cdotp\\mid\\cdotp}\\underset{f_{0}^{\\prime}}{\\cdotp\\mid\\cdotp\\cdotp}\\cdot\\cdotp\\cdotp\\cdotp\\cdotp\\cdotp\\cdotp\\underset{\\zeta f_{Ny}}{\\cdotp\\cdotp\\mid\\cdotp\\cdotp}\\cdotp\\underset{f_{Ny}}{\\!\\cdotp\\!\\mid}$$\n",
    "\n",
    "We can estimate \n",
    "$f_{c}^{\\prime}$ using the attenuation of a Butterworth filter,\n",
    "$$ \\mathcal{A}\\left(f\\right) = 10\\log_{10} \\left(1+\\left(\\frac{f_{c}^{\\prime}}{f_{c}}\\right)^{2n}\\right), $$\n",
    "where $n$ is the filter order, or its number of corners.\n",
    "\n",
    "An attenuation of $40\\textrm{dB}$ represents a drop in amplitude of $10^2$ or 1\\%, or a $10^4$ drop in the energy. Therefore substituting $\\mathcal{A}=40$ and $n=4$  in the above expression, we get\n",
    "$$f_{c}^{\\prime}=f_{c}\\sqrt{10}\\approx3f_{c}$$"
   ]
  },
  {
   "cell_type": "code",
   "execution_count": null,
   "metadata": {},
   "outputs": [],
   "source": [
    "#------- Print relevant information for filtering\n",
    "print(f\"The trace time window is {trZ.times(type='relative')[-1]}s long with {trZ.stats.npts} samples\\n\")\n",
    "#-- An estimate for the lowest frequency\n",
    "dummy = 1. / (2.0 * trZ.times(type='relative')[-1])\n",
    "print(f\"The lower frequency is {np.round(dummy, 5)}Hz\\n\")\n",
    "#\n",
    "print(f\"The sampling frequency is {np.round(1. / trZ.stats.delta, 5)}Hz,\\n\")\n",
    "print(f\"impying in a Nyquist frequency of {1. / (2.0 * trZ.stats.delta)}Hz\\n\")\n",
    "#\\_______________________________________________________________________________________________________________/"
   ]
  },
  {
   "cell_type": "code",
   "execution_count": null,
   "metadata": {
    "scrolled": true
   },
   "outputs": [],
   "source": [
    "#------- I/P of the relevant paramenters\n",
    "print(f\"Enter the corner frequency, filter order, zerophase and a safety margin for the Nyquist: f0, nc, zP, sfty\")\n",
    "print(f\" if just I/P f0, then Nc = 4, zP = True, sfty = 0.8\")\n",
    "print(f\"Suggestion: 0.5 =< f0 >= 1\\n\")\n",
    "ent = input(f' Enter fc, nc and zP (dflt: Nc=4, zP=True, sfty = 0.8)\\n')\n",
    "#\n",
    "ent = ent.rstrip().split(' ')\n",
    "\n",
    "#      +─────────────────────────+─>     Python lists!   <─+─────────────────────────────────────────────────────+\n",
    "ent = [float(ent[0]), 4, True, 0.8] if len(ent) == 1 else [float(ent[0]), int(ent[1]), bool(ent[2]), float(ent[3])]\n",
    "#                                                  Here any entry evaluates to True  <─^──────────^\n",
    "\n",
    "#--------  Use aliases (# from a copy!) to make life easier\n",
    "fc, nc, zP, sfty = ent[:]\n",
    "#\\_______________________________________________________________________________________________________________/\n",
    "\n",
    "#------- Acausal filter/zero phase if zP=True, otherwise a causal filter. Filter with sanity\n",
    "if tr0 == trZ:\n",
    "    trZ.filter('lowpass', freq=fc, zerophase=zP, corners=nc)\n",
    "else:\n",
    "    raise Exception(\"Trace contents has changed from previous cell\")\n",
    "#\\_______________________________________________________________________________________________________________/\n",
    "\n",
    "#--------  Transforms the trace data to the Frequency Domain (up to the Nyquist)\n",
    "FtrZ = np.fft.rfft(trZ.data)\n",
    "\n",
    "#-------- Limit frequency <= 3*fc and limits fft array accordingly\n",
    "#           From above: fNy  = 1. / (2.0 * trZ.stats.delta) \n",
    "#                       freq = np.linspace(0, fNy, len(FtrZ))\n",
    "freq, FtrZ = u.lmt_ValInd(freq, FtrZ, 3. * fc)\n",
    "#              Attenuation of 40dB <─+^^^^^^^+\n",
    "\n",
    "\n",
    "#-------- Plot\n",
    "#           From above: time = trZ.times(type=\"relative\")\n",
    "p.pltTrSp(time, trZ.data, freq, abs(FtrZ),\n",
    "        x1label='Time(s)',        y1label='Amplitude(m/s)',\n",
    "        x2label='Frequency (Hz)', y2label='Ampl. spectrum', y2log=True\n",
    "        )\n",
    "\n",
    "#--------  Append to the processing flux in Unit03\n",
    "Pflux.append(('lowpass '+str(fc)+'Hz'))\n",
    "\n",
    "#------------------- Reset the trace from the last cell ------------------\n",
    "tr0, trZ = u.AuxReset(tr0, trZ)"
   ]
  },
  {
   "cell_type": "markdown",
   "metadata": {},
   "source": [
    "---\n",
    "### Save the filtered data\n",
    "\n",
    "_Save the filtered data data in miniSEED_ in the same directory as this Jupyter notebook. Sspecify file path, name, extension, and data format:\n",
    "\n",
    "**stream.write('/path/filename.mseed', format='MSEED')**."
   ]
  },
  {
   "cell_type": "code",
   "execution_count": null,
   "metadata": {},
   "outputs": [],
   "source": [
    "#-------- Save the filtered data (wb=western-brazil, lp=low pass filtered)\n",
    "filename = '../Data/wb11793085lp' + '.mseed'\n",
    "dummy = input(f'>> Save filtered data '+filename+' (rtn = No): \\n') or False\n",
    "if dummy:\n",
    "    trZ.write(filename, format='MSEED')\n",
    "\n",
    "# Sanity\n",
    "    try:\n",
    "        dummy = read(filename)\n",
    "        print(f\"Filtered Z-data at station IU HKT:\\n {dummy[-1].stats}\")\n",
    "    except:\n",
    "        print(f\".\")\n",
    "        print(f\"Failed to write the data if file {filename}\")\n",
    "        \n",
    "#--------  Append to the processing flux in Unit03 adnd write it to a file\n",
    "Pflux.append('written '+filename)\n",
    "\n",
    "#--- Write\n",
    "with open('../Data/Pflux03.txt', 'w') as f:\n",
    "    for ent in Pflux:\n",
    "        f.write('%s\\n' %ent)\n",
    "f.close()"
   ]
  }
 ],
 "metadata": {
  "colab": {
   "provenance": []
  },
  "kernelspec": {
   "display_name": "Python 3",
   "language": "python",
   "name": "python3"
  },
  "language_info": {
   "codemirror_mode": {
    "name": "ipython",
    "version": 3
   },
   "file_extension": ".py",
   "mimetype": "text/x-python",
   "name": "python",
   "nbconvert_exporter": "python",
   "pygments_lexer": "ipython3",
   "version": "3.8.12"
  }
 },
 "nbformat": 4,
 "nbformat_minor": 4
}
