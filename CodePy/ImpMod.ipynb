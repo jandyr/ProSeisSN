{
 "cells": [
  {
   "cell_type": "code",
   "execution_count": null,
   "id": "d56e8577",
   "metadata": {},
   "outputs": [],
   "source": [
    "#------ Import External Libraries\n",
    "import numpy as np\n",
    "\n",
    "import matplotlib\n",
    "\n",
    "matplotlib.use('nbagg')\n",
    "import matplotlib.pyplot as plt\n",
    "import matplotlib.dates as mdates\n",
    "from matplotlib.colors import Normalize\n",
    "plt.style.use('ggplot')\n",
    "\n",
    "import matplotlib as mpl\n",
    "\n",
    "\n",
    "#------ Import specialized ObsPy packages + sanity.\n",
    "try:\n",
    "    import obspy\n",
    "    print('ObsPy version ==>', obspy.__version__)\n",
    "except TypeError:\n",
    "    print('Stopping RUNTIME. ObsPy not found.')\n",
    "    exit()\n",
    "\n",
    "from obspy import read\n",
    "from obspy import Stream\n",
    "from obspy import UTCDateTime\n",
    "from obspy import read, Stream\n",
    "from obspy import Trace\n",
    "from obspy.clients.fdsn import Client\n",
    "from obspy.clients.fdsn.header import FDSNException\n",
    "from obspy.signal.invsim import cosine_taper\n",
    "import obspy.signal        \n",
    "import obspy.signal.filter             # To estimate envelpe\n",
    "from obspy.signal.array_analysis import array_processing\n",
    "from obspy.core.util import AttribDict\n",
    "from obspy.imaging.cm import obspy_sequential\n",
    "from obspy.signal.invsim import corn_freq_2_paz\n",
    "from obspy.signal.trigger import plot_trigger\n",
    "from obspy.signal.trigger import classic_sta_lta\n",
    "\n",
    "#------ Import local routines.\n",
    "\n",
    "import plot as p\n",
    "import utils as u"
   ]
  }
 ],
 "metadata": {
  "kernelspec": {
   "display_name": "Python 3",
   "language": "python",
   "name": "python3"
  },
  "language_info": {
   "codemirror_mode": {
    "name": "ipython",
    "version": 3
   },
   "file_extension": ".py",
   "mimetype": "text/x-python",
   "name": "python",
   "nbconvert_exporter": "python",
   "pygments_lexer": "ipython3",
   "version": "3.8.12"
  }
 },
 "nbformat": 4,
 "nbformat_minor": 5
}
