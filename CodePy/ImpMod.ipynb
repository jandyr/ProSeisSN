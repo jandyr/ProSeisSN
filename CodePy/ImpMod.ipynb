{
 "cells": [
  {
   "cell_type": "code",
   "execution_count": 4,
   "id": "d56e8577",
   "metadata": {},
   "outputs": [
    {
     "name": "stdout",
     "output_type": "stream",
     "text": [
      "ObsPy version ==> 1.4.1\n"
     ]
    }
   ],
   "source": [
    "#------ Import External Libraries\n",
    "import os, sys\n",
    "import numpy as np\n",
    "import scipy as sp\n",
    "import matplotlib\n",
    "#import pywt\n",
    "\n",
    "matplotlib.use('nbagg')\n",
    "import matplotlib as mpl\n",
    "import matplotlib.pyplot as plt\n",
    "import matplotlib.dates as mdates\n",
    "from matplotlib.colors import Normalize\n",
    "plt.style.use('ggplot')\n",
    "from matplotlib.ticker import MultipleLocator, AutoMinorLocator, AutoLocator, FixedLocator\n",
    "from matplotlib.ticker import ScalarFormatter, FuncFormatter\n",
    "import matplotlib.cm as cm\n",
    "from matplotlib.ticker import MaxNLocator\n",
    "#------ Import specialized ObsPy packages + sanity.\n",
    "try:\n",
    "    import obspy\n",
    "    print('ObsPy version ==>', obspy.__version__)\n",
    "except TypeError:\n",
    "    print('Stopping RUNTIME. ObsPy not found.')\n",
    "    exit()\n",
    "\n",
    "from obspy import read\n",
    "from obspy import Stream\n",
    "from obspy import UTCDateTime\n",
    "from obspy import read, Stream\n",
    "from obspy import Trace\n",
    "from obspy.clients.fdsn import Client\n",
    "from obspy.clients.fdsn.header import FDSNException\n",
    "from obspy.signal.invsim import cosine_taper\n",
    "import obspy.signal        \n",
    "import obspy.signal.filter             # To estimate envelpe\n",
    "from obspy.signal.array_analysis import array_processing\n",
    "from obspy.signal.array_analysis import clibsignal, cosine_taper, get_geometry, get_timeshift\n",
    "from obspy.geodetics.base import gps2dist_azimuth\n",
    "from obspy.core.util import AttribDict\n",
    "from obspy.imaging.cm import obspy_sequential\n",
    "from obspy.signal.invsim import corn_freq_2_paz\n",
    "from obspy.signal.trigger import plot_trigger\n",
    "from obspy.signal.trigger import classic_sta_lta\n",
    "from obspy.geodetics.base import gps2dist_azimuth\n",
    "from obspy import UTCDateTime, read, read_inventory\n",
    "from obspy.signal.util import next_pow_2\n",
    "from obspy.core import AttribDict\n",
    "\n",
    "import utm\n",
    "#------ Import local routines.\n",
    "\n",
    "import plot as p\n",
    "import utils as u\n",
    "import noise as noise"
   ]
  },
  {
   "cell_type": "code",
   "execution_count": null,
   "id": "a414880f-a960-4ab8-9acb-b7bcbca725c5",
   "metadata": {},
   "outputs": [],
   "source": []
  }
 ],
 "metadata": {
  "kernelspec": {
   "display_name": "Python 3 (ipykernel)",
   "language": "python",
   "name": "python3"
  },
  "language_info": {
   "codemirror_mode": {
    "name": "ipython",
    "version": 3
   },
   "file_extension": ".py",
   "mimetype": "text/x-python",
   "name": "python",
   "nbconvert_exporter": "python",
   "pygments_lexer": "ipython3",
   "version": "3.12.7"
  }
 },
 "nbformat": 4,
 "nbformat_minor": 5
}
